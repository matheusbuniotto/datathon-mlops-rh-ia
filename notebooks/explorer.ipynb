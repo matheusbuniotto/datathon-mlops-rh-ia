{
 "cells": [
  {
   "cell_type": "code",
   "execution_count": 3,
   "id": "8094f705",
   "metadata": {},
   "outputs": [],
   "source": [
    "import os\n",
    "import sys\n",
    "import pandas as pd\n",
    "sys.path.append(os.path.abspath('..'))"
   ]
  },
  {
   "cell_type": "code",
   "execution_count": 4,
   "id": "2fd9c798",
   "metadata": {},
   "outputs": [],
   "source": [
    "from app.data_loader import load_applicants, load_jobs, load_prospects\n",
    "\n",
    "df_app = load_applicants(\"../data/raw/applicants.json\")\n",
    "df_vagas = load_jobs(\"../data/raw/vagas.json\")\n",
    "df_prospects = load_prospects(\"../data/raw/prospects.json\")\n"
   ]
  },
  {
   "cell_type": "code",
   "execution_count": 2,
   "id": "5e75b552",
   "metadata": {},
   "outputs": [],
   "source": [
    "df_merged = pd.read_parquet(\"../data/processed/merged.parquet\")"
   ]
  },
  {
   "cell_type": "code",
   "execution_count": 12,
   "id": "dce56c29",
   "metadata": {},
   "outputs": [],
   "source": [
    "from app.embeddings import load_encoder\n",
    "import pandas as pd\n",
    "df = pd.read_parquet(\"../data/processed/merged.parquet\")"
   ]
  },
  {
   "cell_type": "code",
   "execution_count": 2,
   "id": "0de3c43a",
   "metadata": {
    "vscode": {
     "languageId": "ruby"
    }
   },
   "outputs": [],
   "source": [
    "# # Combinar campos úteis de vaga e currículo\n",
    "# df[\"texto_vaga\"] = df[\"titulo_vaga\"].fillna('') + \"\\n\" + df[\"principais_atividades\"].fillna('') + \"\\n\" + df[\"competencias\"].fillna('')\n",
    "# df[\"texto_cv\"] = df[\"cv\"].fillna('')\n",
    "\n",
    "# # Geração dos vetores\n",
    "# emb_vaga = encode_texts(encoder, df[\"texto_vaga\"].tolist())\n",
    "# emb_cv = encode_texts(encoder, df[\"texto_cv\"].tolist())"
   ]
  },
  {
   "cell_type": "markdown",
   "id": "4b187017",
   "metadata": {},
   "source": [
    "### Definir features categóricas"
   ]
  },
  {
   "cell_type": "code",
   "execution_count": 2,
   "id": "563342ee",
   "metadata": {
    "vscode": {
     "languageId": "ruby"
    }
   },
   "outputs": [],
   "source": [
    "df_embeded = pd.read_parquet(\"../data/embeddings/combined_embeddings.parquet\", engine=\"pyarrow\")"
   ]
  },
  {
   "cell_type": "code",
   "execution_count": 3,
   "id": "792bfc44",
   "metadata": {
    "vscode": {
     "languageId": "ruby"
    }
   },
   "outputs": [
    {
     "data": {
      "text/html": [
       "<div>\n",
       "<style scoped>\n",
       "    .dataframe tbody tr th:only-of-type {\n",
       "        vertical-align: middle;\n",
       "    }\n",
       "\n",
       "    .dataframe tbody tr th {\n",
       "        vertical-align: top;\n",
       "    }\n",
       "\n",
       "    .dataframe thead th {\n",
       "        text-align: right;\n",
       "    }\n",
       "</style>\n",
       "<table border=\"1\" class=\"dataframe\">\n",
       "  <thead>\n",
       "    <tr style=\"text-align: right;\">\n",
       "      <th></th>\n",
       "      <th>codigo_vaga</th>\n",
       "      <th>titulo_vaga</th>\n",
       "      <th>cliente</th>\n",
       "      <th>vaga_sap</th>\n",
       "      <th>nivel_profissional_vaga</th>\n",
       "      <th>nivel_ingles_vaga</th>\n",
       "      <th>vaga_areas_atuacao</th>\n",
       "      <th>principais_atividades</th>\n",
       "      <th>competencias</th>\n",
       "      <th>prospect_codigo_vaga</th>\n",
       "      <th>...</th>\n",
       "      <th>conhecimentos_tecnicos</th>\n",
       "      <th>cv</th>\n",
       "      <th>texto_vaga</th>\n",
       "      <th>texto_cv</th>\n",
       "      <th>texto_vaga_areas_atuacao</th>\n",
       "      <th>texto_cv_areas_atuacao</th>\n",
       "      <th>emb_vaga</th>\n",
       "      <th>emb_cv</th>\n",
       "      <th>emb_vaga_areas_atuacao</th>\n",
       "      <th>emb_candidato_area_atuacao</th>\n",
       "    </tr>\n",
       "  </thead>\n",
       "  <tbody>\n",
       "    <tr>\n",
       "      <th>0</th>\n",
       "      <td>4530</td>\n",
       "      <td>CONSULTOR CONTROL M</td>\n",
       "      <td>Morris, Moran and Dodson</td>\n",
       "      <td>0</td>\n",
       "      <td>Pleno</td>\n",
       "      <td>Nenhum</td>\n",
       "      <td>TI - Desenvolvimento/Programação-</td>\n",
       "      <td>- Experiência comprovada em projetos de control-M</td>\n",
       "      <td>- Experiência comprovada em projetos de control-M</td>\n",
       "      <td>4530</td>\n",
       "      <td>...</td>\n",
       "      <td></td>\n",
       "      <td>dados pessoais\\nestado civil: casado\\nidade: 3...</td>\n",
       "      <td>CONSULTOR CONTROL M\\n- Experiência comprovada ...</td>\n",
       "      <td>dados pessoais\\nestado civil: casado\\nidade: 3...</td>\n",
       "      <td>TI - Desenvolvimento/Programação-</td>\n",
       "      <td></td>\n",
       "      <td>[-0.009295957, -0.00052666385, -0.06906117, 0....</td>\n",
       "      <td>[0.015045615, -0.04825083, -0.14836895, -0.032...</td>\n",
       "      <td>[-0.06856637, 0.050247684, -0.058495544, -0.07...</td>\n",
       "      <td>[-0.11883838, 0.048298664, -0.0025480385, -0.0...</td>\n",
       "    </tr>\n",
       "    <tr>\n",
       "      <th>1</th>\n",
       "      <td>4530</td>\n",
       "      <td>CONSULTOR CONTROL M</td>\n",
       "      <td>Morris, Moran and Dodson</td>\n",
       "      <td>0</td>\n",
       "      <td>Pleno</td>\n",
       "      <td>Nenhum</td>\n",
       "      <td>TI - Desenvolvimento/Programação-</td>\n",
       "      <td>- Experiência comprovada em projetos de control-M</td>\n",
       "      <td>- Experiência comprovada em projetos de control-M</td>\n",
       "      <td>4530</td>\n",
       "      <td>...</td>\n",
       "      <td></td>\n",
       "      <td>solteiro, 47 anos\\n\\nestrada meringuava, nº 17...</td>\n",
       "      <td>CONSULTOR CONTROL M\\n- Experiência comprovada ...</td>\n",
       "      <td>solteiro, 47 anos\\n\\nestrada meringuava, nº 17...</td>\n",
       "      <td>TI - Desenvolvimento/Programação-</td>\n",
       "      <td>TI - Governança, TI - Infraestrutura, TI - Pro...</td>\n",
       "      <td>[-0.009295957, -0.00052666385, -0.06906117, 0....</td>\n",
       "      <td>[-0.05458324, -0.019378101, -0.0417616, -0.045...</td>\n",
       "      <td>[-0.06856637, 0.050247684, -0.058495544, -0.07...</td>\n",
       "      <td>[-0.058584508, 0.058868207, -0.04817025, -0.01...</td>\n",
       "    </tr>\n",
       "    <tr>\n",
       "      <th>2</th>\n",
       "      <td>4531</td>\n",
       "      <td>2021-2607395-PeopleSoft Application Engine-Dom...</td>\n",
       "      <td>Gonzalez and Sons</td>\n",
       "      <td>0</td>\n",
       "      <td>Sênior</td>\n",
       "      <td>Nenhum</td>\n",
       "      <td>Gestão e Alocação de Recursos de TI-</td>\n",
       "      <td>Key skills required for the job are:\\n\\nPeople...</td>\n",
       "      <td>O recurso Peoplesoft tem como responsabilidade...</td>\n",
       "      <td>4531</td>\n",
       "      <td>...</td>\n",
       "      <td>- PeopleSoft (PeopleTools 8.49, 8.53, 8.55, 8....</td>\n",
       "      <td>área de atuação: lider de consultoria / gerenc...</td>\n",
       "      <td>2021-2607395-PeopleSoft Application Engine-Dom...</td>\n",
       "      <td>área de atuação: lider de consultoria / gerenc...</td>\n",
       "      <td>Gestão e Alocação de Recursos de TI-</td>\n",
       "      <td>TI - Projetos</td>\n",
       "      <td>[-0.05611357, -0.013657948, 0.0013025829, -0.0...</td>\n",
       "      <td>[-0.023052674, 0.013145778, -0.06701004, -0.06...</td>\n",
       "      <td>[-0.06904862, 0.038036574, -0.038087074, -0.02...</td>\n",
       "      <td>[-0.08057361, 0.08627808, -0.03977177, -0.0361...</td>\n",
       "    </tr>\n",
       "  </tbody>\n",
       "</table>\n",
       "<p>3 rows × 34 columns</p>\n",
       "</div>"
      ],
      "text/plain": [
       "   codigo_vaga                                        titulo_vaga  \\\n",
       "0         4530                                CONSULTOR CONTROL M   \n",
       "1         4530                                CONSULTOR CONTROL M   \n",
       "2         4531  2021-2607395-PeopleSoft Application Engine-Dom...   \n",
       "\n",
       "                    cliente  vaga_sap nivel_profissional_vaga  \\\n",
       "0  Morris, Moran and Dodson         0                   Pleno   \n",
       "1  Morris, Moran and Dodson         0                   Pleno   \n",
       "2         Gonzalez and Sons         0                  Sênior   \n",
       "\n",
       "  nivel_ingles_vaga                    vaga_areas_atuacao  \\\n",
       "0            Nenhum     TI - Desenvolvimento/Programação-   \n",
       "1            Nenhum     TI - Desenvolvimento/Programação-   \n",
       "2            Nenhum  Gestão e Alocação de Recursos de TI-   \n",
       "\n",
       "                               principais_atividades  \\\n",
       "0  - Experiência comprovada em projetos de control-M   \n",
       "1  - Experiência comprovada em projetos de control-M   \n",
       "2  Key skills required for the job are:\\n\\nPeople...   \n",
       "\n",
       "                                        competencias  prospect_codigo_vaga  \\\n",
       "0  - Experiência comprovada em projetos de control-M                  4530   \n",
       "1  - Experiência comprovada em projetos de control-M                  4530   \n",
       "2  O recurso Peoplesoft tem como responsabilidade...                  4531   \n",
       "\n",
       "   ...                             conhecimentos_tecnicos  \\\n",
       "0  ...                                                      \n",
       "1  ...                                                      \n",
       "2  ...  - PeopleSoft (PeopleTools 8.49, 8.53, 8.55, 8....   \n",
       "\n",
       "                                                  cv  \\\n",
       "0  dados pessoais\\nestado civil: casado\\nidade: 3...   \n",
       "1  solteiro, 47 anos\\n\\nestrada meringuava, nº 17...   \n",
       "2  área de atuação: lider de consultoria / gerenc...   \n",
       "\n",
       "                                          texto_vaga  \\\n",
       "0  CONSULTOR CONTROL M\\n- Experiência comprovada ...   \n",
       "1  CONSULTOR CONTROL M\\n- Experiência comprovada ...   \n",
       "2  2021-2607395-PeopleSoft Application Engine-Dom...   \n",
       "\n",
       "                                            texto_cv  \\\n",
       "0  dados pessoais\\nestado civil: casado\\nidade: 3...   \n",
       "1  solteiro, 47 anos\\n\\nestrada meringuava, nº 17...   \n",
       "2  área de atuação: lider de consultoria / gerenc...   \n",
       "\n",
       "               texto_vaga_areas_atuacao  \\\n",
       "0     TI - Desenvolvimento/Programação-   \n",
       "1     TI - Desenvolvimento/Programação-   \n",
       "2  Gestão e Alocação de Recursos de TI-   \n",
       "\n",
       "                              texto_cv_areas_atuacao  \\\n",
       "0                                                      \n",
       "1  TI - Governança, TI - Infraestrutura, TI - Pro...   \n",
       "2                                      TI - Projetos   \n",
       "\n",
       "                                            emb_vaga  \\\n",
       "0  [-0.009295957, -0.00052666385, -0.06906117, 0....   \n",
       "1  [-0.009295957, -0.00052666385, -0.06906117, 0....   \n",
       "2  [-0.05611357, -0.013657948, 0.0013025829, -0.0...   \n",
       "\n",
       "                                              emb_cv  \\\n",
       "0  [0.015045615, -0.04825083, -0.14836895, -0.032...   \n",
       "1  [-0.05458324, -0.019378101, -0.0417616, -0.045...   \n",
       "2  [-0.023052674, 0.013145778, -0.06701004, -0.06...   \n",
       "\n",
       "                              emb_vaga_areas_atuacao  \\\n",
       "0  [-0.06856637, 0.050247684, -0.058495544, -0.07...   \n",
       "1  [-0.06856637, 0.050247684, -0.058495544, -0.07...   \n",
       "2  [-0.06904862, 0.038036574, -0.038087074, -0.02...   \n",
       "\n",
       "                          emb_candidato_area_atuacao  \n",
       "0  [-0.11883838, 0.048298664, -0.0025480385, -0.0...  \n",
       "1  [-0.058584508, 0.058868207, -0.04817025, -0.01...  \n",
       "2  [-0.08057361, 0.08627808, -0.03977177, -0.0361...  \n",
       "\n",
       "[3 rows x 34 columns]"
      ]
     },
     "execution_count": 3,
     "metadata": {},
     "output_type": "execute_result"
    }
   ],
   "source": [
    "df_embeded.head(3)"
   ]
  },
  {
   "cell_type": "code",
   "execution_count": 4,
   "id": "f6089050",
   "metadata": {
    "vscode": {
     "languageId": "ruby"
    }
   },
   "outputs": [],
   "source": [
    "# cols_to_view = [\n",
    "#     \"nivel_profissional_vaga\",\n",
    "#     \"nivel_ingles_vaga\",\n",
    "\n",
    "#     \"nivel_profissional\",\n",
    "#     \"nivel_academico\",\n",
    "#     \"nivel_ingles\"\n",
    "# ]\n",
    "\n",
    "\n",
    "# for c in df_embeded[cols_to_view]:\n",
    "#     if df_embeded[c].dtype == \"object\":\n",
    "#         print(\"Coluna:\",c)\n",
    "#         print(df_embeded[c].value_counts())\n",
    "\n"
   ]
  },
  {
   "cell_type": "code",
   "execution_count": 5,
   "id": "5a5e9798",
   "metadata": {},
   "outputs": [
    {
     "ename": "NameError",
     "evalue": "name 'df_prospects' is not defined",
     "output_type": "error",
     "traceback": [
      "\u001b[31m---------------------------------------------------------------------------\u001b[39m",
      "\u001b[31mNameError\u001b[39m                                 Traceback (most recent call last)",
      "\u001b[36mCell\u001b[39m\u001b[36m \u001b[39m\u001b[32mIn[5]\u001b[39m\u001b[32m, line 1\u001b[39m\n\u001b[32m----> \u001b[39m\u001b[32m1\u001b[39m \u001b[43mdf_prospects\u001b[49m.query(\u001b[33m\"\u001b[39m\u001b[33mnome_candidato ==\u001b[39m\u001b[33m'\u001b[39m\u001b[33mSrta. Isabela Cavalcante\u001b[39m\u001b[33m'\u001b[39m\u001b[33m\"\u001b[39m)\n",
      "\u001b[31mNameError\u001b[39m: name 'df_prospects' is not defined"
     ]
    }
   ],
   "source": [
    "df_prospects.query(\"nome_candidato =='Srta. Isabela Cavalcante'\")"
   ]
  },
  {
   "cell_type": "markdown",
   "id": "c609421b",
   "metadata": {},
   "source": [
    "### Teste e treino split - teste"
   ]
  },
  {
   "cell_type": "code",
   "execution_count": 3,
   "id": "2c96e68e",
   "metadata": {},
   "outputs": [
    {
     "name": "stderr",
     "output_type": "stream",
     "text": [
      "\u001b[32m2025-06-08 13:39:22.790\u001b[0m | \u001b[1mINFO    \u001b[0m | \u001b[36mapp.stages.data_split_stage\u001b[0m:\u001b[36msplit_dataset_by_vaga\u001b[0m:\u001b[36m7\u001b[0m - \u001b[1m[Split] Iniciando divisão do dataset por vaga...\u001b[0m\n",
      "\u001b[32m2025-06-08 13:39:22.822\u001b[0m | \u001b[32m\u001b[1mSUCCESS \u001b[0m | \u001b[36mapp.stages.data_split_stage\u001b[0m:\u001b[36msplit_dataset_by_vaga\u001b[0m:\u001b[36m22\u001b[0m - \u001b[32m\u001b[1m[Split] Feito! Tamanhos: train=41973, val=5774, test=8792\u001b[0m\n",
      "\u001b[32m2025-06-08 13:39:22.878\u001b[0m | \u001b[1mINFO    \u001b[0m | \u001b[36mapp.stages.feature_engineering_stage\u001b[0m:\u001b[36mapply_feature_pipeline\u001b[0m:\u001b[36m58\u001b[0m - \u001b[1m[Features] Aplicando transformações de encoding...\u001b[0m\n",
      "\u001b[32m2025-06-08 13:39:22.878\u001b[0m | \u001b[1mINFO    \u001b[0m | \u001b[36mapp.stages.feature_engineering_stage\u001b[0m:\u001b[36mapply_feature_pipeline\u001b[0m:\u001b[36m62\u001b[0m - \u001b[1m[Features] Expandindo embeddings...\u001b[0m\n"
     ]
    },
    {
     "name": "stdout",
     "output_type": "stream",
     "text": [
      "Dataset shapes before transformations:\n",
      "Train: (41973, 35)\n",
      "Val: (5774, 35)\n",
      "Test: (8792, 35)\n"
     ]
    },
    {
     "name": "stderr",
     "output_type": "stream",
     "text": [
      "\u001b[32m2025-06-08 13:39:37.285\u001b[0m | \u001b[32m\u001b[1mSUCCESS \u001b[0m | \u001b[36mapp.stages.feature_engineering_stage\u001b[0m:\u001b[36mapply_feature_pipeline\u001b[0m:\u001b[36m66\u001b[0m - \u001b[32m\u001b[1m[Features] Embeddings expandidos com sucesso.\u001b[0m\n",
      "\u001b[32m2025-06-08 13:39:38.090\u001b[0m | \u001b[32m\u001b[1mSUCCESS \u001b[0m | \u001b[36mapp.stages.feature_engineering_stage\u001b[0m:\u001b[36mapply_feature_pipeline\u001b[0m:\u001b[36m98\u001b[0m - \u001b[32m\u001b[1m[Features] Pipeline de features aplicado com sucesso.\u001b[0m\n",
      "\u001b[32m2025-06-08 13:39:38.090\u001b[0m | \u001b[1mINFO    \u001b[0m | \u001b[36mapp.stages.feature_engineering_stage\u001b[0m:\u001b[36msave_model_input\u001b[0m:\u001b[36m50\u001b[0m - \u001b[1m[Features] Salvando entradas do modelo...\u001b[0m\n",
      "\u001b[32m2025-06-08 13:39:38.122\u001b[0m | \u001b[32m\u001b[1mSUCCESS \u001b[0m | \u001b[36mapp.stages.feature_engineering_stage\u001b[0m:\u001b[36msave_model_input\u001b[0m:\u001b[36m55\u001b[0m - \u001b[32m\u001b[1m[Features] Entradas do modelo salvas com sucesso.\u001b[0m\n"
     ]
    }
   ],
   "source": [
    "import os\n",
    "import sys\n",
    "import pandas as pd\n",
    "sys.path.append(os.path.abspath('..'))\n",
    "\n",
    "from app.stages.data_split_stage import split_dataset_by_vaga\n",
    "from app.stages.feature_engineering_stage import apply_feature_pipeline  # Add this import\n",
    "\n",
    "# Load and split data\n",
    "df = pd.read_parquet(\"../data/processed/rank_ready.parquet\")\n",
    "df_train, df_val, df_test = split_dataset_by_vaga(df)\n",
    "\n",
    "print(f\"Dataset shapes before transformations:\")\n",
    "print(f\"Train: {df_train.shape}\")\n",
    "print(f\"Val: {df_val.shape}\")\n",
    "print(f\"Test: {df_test.shape}\")\n",
    "\n",
    "# Apply all feature engineering transformations\n",
    "X_train, y_train, group_train, X_val, y_val, group_val, X_test, y_test, group_test, pipe = apply_feature_pipeline(\n",
    "    df_train, df_val, df_test\n",
    ")\n"
   ]
  },
  {
   "cell_type": "code",
   "execution_count": 7,
   "id": "843bc866",
   "metadata": {},
   "outputs": [
    {
     "data": {
      "text/plain": [
       "<Compressed Sparse Row sparse matrix of dtype 'float64'\n",
       "\twith 286025 stored elements and shape (41973, 45)>"
      ]
     },
     "execution_count": 7,
     "metadata": {},
     "output_type": "execute_result"
    }
   ],
   "source": [
    "X_train"
   ]
  },
  {
   "cell_type": "code",
   "execution_count": 2,
   "id": "7143ae0f",
   "metadata": {},
   "outputs": [
    {
     "name": "stdout",
     "output_type": "stream",
     "text": [
      "\n",
      "Dataset shapes after transformations:\n",
      "X_train: (41973, 45)\n",
      "X_val: (5774, 45)\n",
      "X_test: (8792, 45)\n",
      "\n",
      "Target shapes:\n",
      "y_train: (41973,)\n",
      "y_val: (5774,)\n",
      "y_test: (8792,)\n",
      "\n",
      "Group sizes:\n",
      "group_train: 10559 groups, total samples: 41973\n",
      "group_val: 1409 groups, total samples: 5774\n",
      "group_test: 2113 groups, total samples: 8792\n"
     ]
    }
   ],
   "source": [
    "print(f\"\\nDataset shapes after transformations:\")\n",
    "print(f\"X_train: {X_train.shape}\")\n",
    "print(f\"X_val: {X_val.shape}\")\n",
    "print(f\"X_test: {X_test.shape}\")\n",
    "\n",
    "print(f\"\\nTarget shapes:\")\n",
    "print(f\"y_train: {y_train.shape}\")\n",
    "print(f\"y_val: {y_val.shape}\")\n",
    "print(f\"y_test: {y_test.shape}\")\n",
    "\n",
    "print(f\"\\nGroup sizes:\")\n",
    "print(f\"group_train: {len(group_train)} groups, total samples: {sum(group_train)}\")\n",
    "print(f\"group_val: {len(group_val)} groups, total samples: {sum(group_val)}\")\n",
    "print(f\"group_test: {len(group_test)} groups, total samples: {sum(group_test)}\")"
   ]
  },
  {
   "cell_type": "code",
   "execution_count": 5,
   "id": "8cf5f6e1",
   "metadata": {},
   "outputs": [
    {
     "name": "stdout",
     "output_type": "stream",
     "text": [
      "(41973, 45)\n",
      "non-zeros: 286025, total: 1888785\n",
      "sparsity: 84.86%\n"
     ]
    }
   ],
   "source": [
    "from scipy import sparse\n",
    "\n",
    "X_train = sparse.load_npz(\"../data/model_input/X_train.npz\")\n",
    "print(X_train.shape)\n",
    "print(f\"non-zeros: {X_train.nnz}, total: {X_train.shape[0] * X_train.shape[1]}\")\n",
    "print(f\"sparsity: {(1 - X_train.nnz / (X_train.shape[0] * X_train.shape[1])):.2%}\")\n"
   ]
  },
  {
   "cell_type": "markdown",
   "id": "cc21d2ff",
   "metadata": {},
   "source": [
    "### feature eng"
   ]
  },
  {
   "cell_type": "code",
   "execution_count": 3,
   "id": "023e4537",
   "metadata": {},
   "outputs": [
    {
     "name": "stderr",
     "output_type": "stream",
     "text": [
      "\u001b[32m2025-06-08 11:57:49.148\u001b[0m | \u001b[1mINFO    \u001b[0m | \u001b[36mapp.stages.feature_engineering_stage\u001b[0m:\u001b[36mapply_feature_pipeline\u001b[0m:\u001b[36m50\u001b[0m - \u001b[1m[Features] Aplicando transformações de encoding...\u001b[0m\n",
      "\u001b[32m2025-06-08 11:57:49.149\u001b[0m | \u001b[1mINFO    \u001b[0m | \u001b[36mapp.utils.similarity_utils\u001b[0m:\u001b[36mcompute_all_similarities\u001b[0m:\u001b[36m10\u001b[0m - \u001b[1m[Features] Calculando similaridade entre vaga e CV...\u001b[0m\n"
     ]
    },
    {
     "name": "stdout",
     "output_type": "stream",
     "text": [
      "Sample embedding shape: (384,)\n"
     ]
    },
    {
     "name": "stderr",
     "output_type": "stream",
     "text": [
      "\u001b[32m2025-06-08 11:58:07.471\u001b[0m | \u001b[1mINFO    \u001b[0m | \u001b[36mapp.utils.similarity_utils\u001b[0m:\u001b[36mcompute_all_similarities\u001b[0m:\u001b[36m10\u001b[0m - \u001b[1m[Features] Calculando similaridade entre vaga e CV...\u001b[0m\n",
      "\u001b[32m2025-06-08 11:58:09.928\u001b[0m | \u001b[1mINFO    \u001b[0m | \u001b[36mapp.utils.similarity_utils\u001b[0m:\u001b[36mcompute_all_similarities\u001b[0m:\u001b[36m10\u001b[0m - \u001b[1m[Features] Calculando similaridade entre vaga e CV...\u001b[0m\n"
     ]
    }
   ],
   "source": [
    "from app.stages.feature_engineering_stage import apply_feature_pipeline\n",
    "\n",
    "# First check if embeddings are present and their format\n",
    "print(\"Sample embedding shape:\", df_train.iloc[0][\"emb_vaga\"].shape)\n",
    "\n",
    "X_train, y_train, group_train, X_val, y_val, group_val, X_test, y_test, group_test, pipe = apply_feature_pipeline(\n",
    "    df_train, df_val, df_test\n",
    ")"
   ]
  },
  {
   "cell_type": "code",
   "execution_count": null,
   "id": "f9972ec1",
   "metadata": {},
   "outputs": [
    {
     "data": {
      "text/plain": [
       "Index(['nivel_profissional', 'nivel_profissional_vaga', 'nivel_academico',\n",
       "       'nivel_ingles', 'nivel_ingles_vaga', 'cliente_Barnes-Woods',\n",
       "       'cliente_Bell Group', 'cliente_Callahan-Hall',\n",
       "       'cliente_Glover, Warren and Norris', 'cliente_Gonzalez and Sons',\n",
       "       'cliente_Jenkins-Walker', 'cliente_Johnson-Pratt',\n",
       "       'cliente_Mann and Sons', 'cliente_Miller, Tran and Chang',\n",
       "       'cliente_Miller-Curry', 'cliente_Morris, Moran and Dodson',\n",
       "       'cliente_Morrison Ltd', 'cliente_Nelson-Page', 'cliente_Porter-Wilson',\n",
       "       'cliente_Wade, Bernard and Bailey', 'cliente_infrequent_sklearn',\n",
       "       'recrutador_Ana Camargo', 'recrutador_Ana Lívia Moreira',\n",
       "       'recrutador_Aylla Leão', 'recrutador_Caroline Machado',\n",
       "       'recrutador_Clara Rios', 'recrutador_Dra. Luara Siqueira',\n",
       "       'recrutador_Elisa Barbosa', 'recrutador_Eloah Leão',\n",
       "       'recrutador_Emanuella Campos', 'recrutador_Emanuelly Vieira',\n",
       "       'recrutador_Helena Barros', 'recrutador_Juliana Cassiano',\n",
       "       'recrutador_Laura Pacheco', 'recrutador_Liz Freitas',\n",
       "       'recrutador_Luna Correia', 'recrutador_Lunna Fonseca',\n",
       "       'recrutador_Maria Clara Pires', 'recrutador_Melina Montenegro',\n",
       "       'recrutador_Srta. Bella Ferreira', 'recrutador_Stella Vieira',\n",
       "       'recrutador_Yasmin da Rosa', 'recrutador_None',\n",
       "       'recrutador_infrequent_sklearn', 'vaga_sap', 'similaridade_vaga_cv',\n",
       "       'similaridade_area', 'similaridade_combinada'],\n",
       "      dtype='object')"
      ]
     },
     "execution_count": 5,
     "metadata": {},
     "output_type": "execute_result"
    }
   ],
   "source": [
    "X_train."
   ]
  },
  {
   "cell_type": "code",
   "execution_count": null,
   "id": "cf92d8bd",
   "metadata": {},
   "outputs": [],
   "source": []
  }
 ],
 "metadata": {
  "kernelspec": {
   "display_name": ".venv",
   "language": "python",
   "name": "python3"
  },
  "language_info": {
   "codemirror_mode": {
    "name": "ipython",
    "version": 3
   },
   "file_extension": ".py",
   "mimetype": "text/x-python",
   "name": "python",
   "nbconvert_exporter": "python",
   "pygments_lexer": "ipython3",
   "version": "3.11.12"
  }
 },
 "nbformat": 4,
 "nbformat_minor": 5
}
