{
 "cells": [
  {
   "cell_type": "code",
   "execution_count": 1,
   "id": "8094f705",
   "metadata": {},
   "outputs": [],
   "source": [
    "import os\n",
    "import sys\n",
    "import pandas as pd\n",
    "sys.path.append(os.path.abspath('..'))"
   ]
  },
  {
   "cell_type": "code",
   "execution_count": 4,
   "id": "2fd9c798",
   "metadata": {},
   "outputs": [],
   "source": [
    "from app.data_loader import load_applicants, load_jobs, load_prospects\n",
    "\n",
    "df_app = load_applicants(\"../data/raw/applicants.json\")\n",
    "df_vagas = load_jobs(\"../data/raw/vagas.json\")\n",
    "df_prospects = load_prospects(\"../data/raw/prospects.json\")\n"
   ]
  },
  {
   "cell_type": "code",
   "execution_count": 2,
   "id": "5e75b552",
   "metadata": {},
   "outputs": [],
   "source": [
    "df_merged = pd.read_parquet(\"../data/processed/merged.parquet\")"
   ]
  },
  {
   "cell_type": "code",
   "execution_count": 12,
   "id": "dce56c29",
   "metadata": {},
   "outputs": [],
   "source": [
    "from app.embeddings import load_encoder\n",
    "import pandas as pd\n",
    "df = pd.read_parquet(\"../data/processed/merged.parquet\")"
   ]
  },
  {
   "cell_type": "code",
   "execution_count": 2,
   "id": "0de3c43a",
   "metadata": {
    "vscode": {
     "languageId": "ruby"
    }
   },
   "outputs": [],
   "source": [
    "# # Combinar campos úteis de vaga e currículo\n",
    "# df[\"texto_vaga\"] = df[\"titulo_vaga\"].fillna('') + \"\\n\" + df[\"principais_atividades\"].fillna('') + \"\\n\" + df[\"competencias\"].fillna('')\n",
    "# df[\"texto_cv\"] = df[\"cv\"].fillna('')\n",
    "\n",
    "# # Geração dos vetores\n",
    "# emb_vaga = encode_texts(encoder, df[\"texto_vaga\"].tolist())\n",
    "# emb_cv = encode_texts(encoder, df[\"texto_cv\"].tolist())"
   ]
  },
  {
   "cell_type": "markdown",
   "id": "4b187017",
   "metadata": {},
   "source": [
    "### Definir features categóricas"
   ]
  },
  {
   "cell_type": "code",
   "execution_count": 2,
   "id": "563342ee",
   "metadata": {
    "vscode": {
     "languageId": "ruby"
    }
   },
   "outputs": [],
   "source": [
    "df_embeded = pd.read_parquet(\"../data/embeddings/combined_embeddings.parquet\", engine=\"pyarrow\")"
   ]
  },
  {
   "cell_type": "code",
   "execution_count": 3,
   "id": "792bfc44",
   "metadata": {
    "vscode": {
     "languageId": "ruby"
    }
   },
   "outputs": [
    {
     "data": {
      "text/html": [
       "<div>\n",
       "<style scoped>\n",
       "    .dataframe tbody tr th:only-of-type {\n",
       "        vertical-align: middle;\n",
       "    }\n",
       "\n",
       "    .dataframe tbody tr th {\n",
       "        vertical-align: top;\n",
       "    }\n",
       "\n",
       "    .dataframe thead th {\n",
       "        text-align: right;\n",
       "    }\n",
       "</style>\n",
       "<table border=\"1\" class=\"dataframe\">\n",
       "  <thead>\n",
       "    <tr style=\"text-align: right;\">\n",
       "      <th></th>\n",
       "      <th>codigo_vaga</th>\n",
       "      <th>titulo_vaga</th>\n",
       "      <th>cliente</th>\n",
       "      <th>vaga_sap</th>\n",
       "      <th>nivel_profissional_vaga</th>\n",
       "      <th>nivel_ingles_vaga</th>\n",
       "      <th>vaga_areas_atuacao</th>\n",
       "      <th>principais_atividades</th>\n",
       "      <th>competencias</th>\n",
       "      <th>prospect_codigo_vaga</th>\n",
       "      <th>...</th>\n",
       "      <th>conhecimentos_tecnicos</th>\n",
       "      <th>cv</th>\n",
       "      <th>texto_vaga</th>\n",
       "      <th>texto_cv</th>\n",
       "      <th>texto_vaga_areas_atuacao</th>\n",
       "      <th>texto_cv_areas_atuacao</th>\n",
       "      <th>emb_vaga</th>\n",
       "      <th>emb_cv</th>\n",
       "      <th>emb_vaga_areas_atuacao</th>\n",
       "      <th>emb_candidato_area_atuacao</th>\n",
       "    </tr>\n",
       "  </thead>\n",
       "  <tbody>\n",
       "    <tr>\n",
       "      <th>0</th>\n",
       "      <td>4530</td>\n",
       "      <td>CONSULTOR CONTROL M</td>\n",
       "      <td>Morris, Moran and Dodson</td>\n",
       "      <td>0</td>\n",
       "      <td>Pleno</td>\n",
       "      <td>Nenhum</td>\n",
       "      <td>TI - Desenvolvimento/Programação-</td>\n",
       "      <td>- Experiência comprovada em projetos de control-M</td>\n",
       "      <td>- Experiência comprovada em projetos de control-M</td>\n",
       "      <td>4530</td>\n",
       "      <td>...</td>\n",
       "      <td></td>\n",
       "      <td>dados pessoais\\nestado civil: casado\\nidade: 3...</td>\n",
       "      <td>CONSULTOR CONTROL M\\n- Experiência comprovada ...</td>\n",
       "      <td>dados pessoais\\nestado civil: casado\\nidade: 3...</td>\n",
       "      <td>TI - Desenvolvimento/Programação-</td>\n",
       "      <td></td>\n",
       "      <td>[-0.009295957, -0.00052666385, -0.06906117, 0....</td>\n",
       "      <td>[0.015045615, -0.04825083, -0.14836895, -0.032...</td>\n",
       "      <td>[-0.06856637, 0.050247684, -0.058495544, -0.07...</td>\n",
       "      <td>[-0.11883838, 0.048298664, -0.0025480385, -0.0...</td>\n",
       "    </tr>\n",
       "    <tr>\n",
       "      <th>1</th>\n",
       "      <td>4530</td>\n",
       "      <td>CONSULTOR CONTROL M</td>\n",
       "      <td>Morris, Moran and Dodson</td>\n",
       "      <td>0</td>\n",
       "      <td>Pleno</td>\n",
       "      <td>Nenhum</td>\n",
       "      <td>TI - Desenvolvimento/Programação-</td>\n",
       "      <td>- Experiência comprovada em projetos de control-M</td>\n",
       "      <td>- Experiência comprovada em projetos de control-M</td>\n",
       "      <td>4530</td>\n",
       "      <td>...</td>\n",
       "      <td></td>\n",
       "      <td>solteiro, 47 anos\\n\\nestrada meringuava, nº 17...</td>\n",
       "      <td>CONSULTOR CONTROL M\\n- Experiência comprovada ...</td>\n",
       "      <td>solteiro, 47 anos\\n\\nestrada meringuava, nº 17...</td>\n",
       "      <td>TI - Desenvolvimento/Programação-</td>\n",
       "      <td>TI - Governança, TI - Infraestrutura, TI - Pro...</td>\n",
       "      <td>[-0.009295957, -0.00052666385, -0.06906117, 0....</td>\n",
       "      <td>[-0.05458324, -0.019378101, -0.0417616, -0.045...</td>\n",
       "      <td>[-0.06856637, 0.050247684, -0.058495544, -0.07...</td>\n",
       "      <td>[-0.058584508, 0.058868207, -0.04817025, -0.01...</td>\n",
       "    </tr>\n",
       "    <tr>\n",
       "      <th>2</th>\n",
       "      <td>4531</td>\n",
       "      <td>2021-2607395-PeopleSoft Application Engine-Dom...</td>\n",
       "      <td>Gonzalez and Sons</td>\n",
       "      <td>0</td>\n",
       "      <td>Sênior</td>\n",
       "      <td>Nenhum</td>\n",
       "      <td>Gestão e Alocação de Recursos de TI-</td>\n",
       "      <td>Key skills required for the job are:\\n\\nPeople...</td>\n",
       "      <td>O recurso Peoplesoft tem como responsabilidade...</td>\n",
       "      <td>4531</td>\n",
       "      <td>...</td>\n",
       "      <td>- PeopleSoft (PeopleTools 8.49, 8.53, 8.55, 8....</td>\n",
       "      <td>área de atuação: lider de consultoria / gerenc...</td>\n",
       "      <td>2021-2607395-PeopleSoft Application Engine-Dom...</td>\n",
       "      <td>área de atuação: lider de consultoria / gerenc...</td>\n",
       "      <td>Gestão e Alocação de Recursos de TI-</td>\n",
       "      <td>TI - Projetos</td>\n",
       "      <td>[-0.05611357, -0.013657948, 0.0013025829, -0.0...</td>\n",
       "      <td>[-0.023052674, 0.013145778, -0.06701004, -0.06...</td>\n",
       "      <td>[-0.06904862, 0.038036574, -0.038087074, -0.02...</td>\n",
       "      <td>[-0.08057361, 0.08627808, -0.03977177, -0.0361...</td>\n",
       "    </tr>\n",
       "  </tbody>\n",
       "</table>\n",
       "<p>3 rows × 34 columns</p>\n",
       "</div>"
      ],
      "text/plain": [
       "   codigo_vaga                                        titulo_vaga  \\\n",
       "0         4530                                CONSULTOR CONTROL M   \n",
       "1         4530                                CONSULTOR CONTROL M   \n",
       "2         4531  2021-2607395-PeopleSoft Application Engine-Dom...   \n",
       "\n",
       "                    cliente  vaga_sap nivel_profissional_vaga  \\\n",
       "0  Morris, Moran and Dodson         0                   Pleno   \n",
       "1  Morris, Moran and Dodson         0                   Pleno   \n",
       "2         Gonzalez and Sons         0                  Sênior   \n",
       "\n",
       "  nivel_ingles_vaga                    vaga_areas_atuacao  \\\n",
       "0            Nenhum     TI - Desenvolvimento/Programação-   \n",
       "1            Nenhum     TI - Desenvolvimento/Programação-   \n",
       "2            Nenhum  Gestão e Alocação de Recursos de TI-   \n",
       "\n",
       "                               principais_atividades  \\\n",
       "0  - Experiência comprovada em projetos de control-M   \n",
       "1  - Experiência comprovada em projetos de control-M   \n",
       "2  Key skills required for the job are:\\n\\nPeople...   \n",
       "\n",
       "                                        competencias  prospect_codigo_vaga  \\\n",
       "0  - Experiência comprovada em projetos de control-M                  4530   \n",
       "1  - Experiência comprovada em projetos de control-M                  4530   \n",
       "2  O recurso Peoplesoft tem como responsabilidade...                  4531   \n",
       "\n",
       "   ...                             conhecimentos_tecnicos  \\\n",
       "0  ...                                                      \n",
       "1  ...                                                      \n",
       "2  ...  - PeopleSoft (PeopleTools 8.49, 8.53, 8.55, 8....   \n",
       "\n",
       "                                                  cv  \\\n",
       "0  dados pessoais\\nestado civil: casado\\nidade: 3...   \n",
       "1  solteiro, 47 anos\\n\\nestrada meringuava, nº 17...   \n",
       "2  área de atuação: lider de consultoria / gerenc...   \n",
       "\n",
       "                                          texto_vaga  \\\n",
       "0  CONSULTOR CONTROL M\\n- Experiência comprovada ...   \n",
       "1  CONSULTOR CONTROL M\\n- Experiência comprovada ...   \n",
       "2  2021-2607395-PeopleSoft Application Engine-Dom...   \n",
       "\n",
       "                                            texto_cv  \\\n",
       "0  dados pessoais\\nestado civil: casado\\nidade: 3...   \n",
       "1  solteiro, 47 anos\\n\\nestrada meringuava, nº 17...   \n",
       "2  área de atuação: lider de consultoria / gerenc...   \n",
       "\n",
       "               texto_vaga_areas_atuacao  \\\n",
       "0     TI - Desenvolvimento/Programação-   \n",
       "1     TI - Desenvolvimento/Programação-   \n",
       "2  Gestão e Alocação de Recursos de TI-   \n",
       "\n",
       "                              texto_cv_areas_atuacao  \\\n",
       "0                                                      \n",
       "1  TI - Governança, TI - Infraestrutura, TI - Pro...   \n",
       "2                                      TI - Projetos   \n",
       "\n",
       "                                            emb_vaga  \\\n",
       "0  [-0.009295957, -0.00052666385, -0.06906117, 0....   \n",
       "1  [-0.009295957, -0.00052666385, -0.06906117, 0....   \n",
       "2  [-0.05611357, -0.013657948, 0.0013025829, -0.0...   \n",
       "\n",
       "                                              emb_cv  \\\n",
       "0  [0.015045615, -0.04825083, -0.14836895, -0.032...   \n",
       "1  [-0.05458324, -0.019378101, -0.0417616, -0.045...   \n",
       "2  [-0.023052674, 0.013145778, -0.06701004, -0.06...   \n",
       "\n",
       "                              emb_vaga_areas_atuacao  \\\n",
       "0  [-0.06856637, 0.050247684, -0.058495544, -0.07...   \n",
       "1  [-0.06856637, 0.050247684, -0.058495544, -0.07...   \n",
       "2  [-0.06904862, 0.038036574, -0.038087074, -0.02...   \n",
       "\n",
       "                          emb_candidato_area_atuacao  \n",
       "0  [-0.11883838, 0.048298664, -0.0025480385, -0.0...  \n",
       "1  [-0.058584508, 0.058868207, -0.04817025, -0.01...  \n",
       "2  [-0.08057361, 0.08627808, -0.03977177, -0.0361...  \n",
       "\n",
       "[3 rows x 34 columns]"
      ]
     },
     "execution_count": 3,
     "metadata": {},
     "output_type": "execute_result"
    }
   ],
   "source": [
    "df_embeded.head(3)"
   ]
  },
  {
   "cell_type": "code",
   "execution_count": 4,
   "id": "f6089050",
   "metadata": {
    "vscode": {
     "languageId": "ruby"
    }
   },
   "outputs": [],
   "source": [
    "# cols_to_view = [\n",
    "#     \"nivel_profissional_vaga\",\n",
    "#     \"nivel_ingles_vaga\",\n",
    "\n",
    "#     \"nivel_profissional\",\n",
    "#     \"nivel_academico\",\n",
    "#     \"nivel_ingles\"\n",
    "# ]\n",
    "\n",
    "\n",
    "# for c in df_embeded[cols_to_view]:\n",
    "#     if df_embeded[c].dtype == \"object\":\n",
    "#         print(\"Coluna:\",c)\n",
    "#         print(df_embeded[c].value_counts())\n",
    "\n"
   ]
  },
  {
   "cell_type": "code",
   "execution_count": 5,
   "id": "5a5e9798",
   "metadata": {},
   "outputs": [
    {
     "ename": "NameError",
     "evalue": "name 'df_prospects' is not defined",
     "output_type": "error",
     "traceback": [
      "\u001b[31m---------------------------------------------------------------------------\u001b[39m",
      "\u001b[31mNameError\u001b[39m                                 Traceback (most recent call last)",
      "\u001b[36mCell\u001b[39m\u001b[36m \u001b[39m\u001b[32mIn[5]\u001b[39m\u001b[32m, line 1\u001b[39m\n\u001b[32m----> \u001b[39m\u001b[32m1\u001b[39m \u001b[43mdf_prospects\u001b[49m.query(\u001b[33m\"\u001b[39m\u001b[33mnome_candidato ==\u001b[39m\u001b[33m'\u001b[39m\u001b[33mSrta. Isabela Cavalcante\u001b[39m\u001b[33m'\u001b[39m\u001b[33m\"\u001b[39m)\n",
      "\u001b[31mNameError\u001b[39m: name 'df_prospects' is not defined"
     ]
    }
   ],
   "source": [
    "df_prospects.query(\"nome_candidato =='Srta. Isabela Cavalcante'\")"
   ]
  },
  {
   "cell_type": "markdown",
   "id": "c609421b",
   "metadata": {},
   "source": [
    "### Teste e treino split - teste"
   ]
  },
  {
   "cell_type": "code",
   "execution_count": 4,
   "id": "2c96e68e",
   "metadata": {},
   "outputs": [
    {
     "name": "stderr",
     "output_type": "stream",
     "text": [
      "\u001b[32m2025-06-08 11:20:19.994\u001b[0m | \u001b[1mINFO    \u001b[0m | \u001b[36mapp.stages.data_split_stage\u001b[0m:\u001b[36msplit_dataset_by_vaga\u001b[0m:\u001b[36m7\u001b[0m - \u001b[1m[Split] Iniciando divisão do dataset por vaga...\u001b[0m\n",
      "\u001b[32m2025-06-08 11:20:20.042\u001b[0m | \u001b[32m\u001b[1mSUCCESS \u001b[0m | \u001b[36mapp.stages.data_split_stage\u001b[0m:\u001b[36msplit_dataset_by_vaga\u001b[0m:\u001b[36m22\u001b[0m - \u001b[32m\u001b[1m[Split] Feito! Tamanhos: train=41973, val=5774, test=8792\u001b[0m\n"
     ]
    }
   ],
   "source": [
    "from app.stages.data_split_stage import split_dataset_by_vaga\n",
    "df = pd.read_parquet(\"../data/processed/rank_ready.parquet\")\n",
    "df_train, df_val, df_test = split_dataset_by_vaga(df)"
   ]
  },
  {
   "cell_type": "code",
   "execution_count": 5,
   "id": "6e338cf6",
   "metadata": {},
   "outputs": [
    {
     "data": {
      "text/plain": [
       "Index(['codigo_vaga', 'titulo_vaga', 'cliente', 'vaga_sap',\n",
       "       'nivel_profissional_vaga', 'nivel_ingles_vaga', 'vaga_areas_atuacao',\n",
       "       'principais_atividades', 'competencias', 'prospect_codigo_vaga',\n",
       "       'prospect_codigo_candidato', 'nome_candidato', 'situacao_candidato',\n",
       "       'data_candidatura', 'ultima_atualizacao', 'comentario', 'recrutador',\n",
       "       'applicants_codigo_candidato', 'nome_candidato_1', 'email',\n",
       "       'candidato_area_atuacao', 'nivel_profissional', 'nivel_academico',\n",
       "       'nivel_ingles', 'conhecimentos_tecnicos', 'cv', 'texto_vaga',\n",
       "       'texto_cv', 'texto_vaga_areas_atuacao', 'texto_cv_areas_atuacao',\n",
       "       'emb_vaga', 'emb_cv', 'emb_vaga_areas_atuacao',\n",
       "       'emb_candidato_area_atuacao', 'target_rank'],\n",
       "      dtype='object')"
      ]
     },
     "execution_count": 5,
     "metadata": {},
     "output_type": "execute_result"
    }
   ],
   "source": [
    "df_train.columns"
   ]
  },
  {
   "cell_type": "code",
   "execution_count": null,
   "id": "ab9cf15a",
   "metadata": {},
   "outputs": [],
   "source": []
  },
  {
   "cell_type": "markdown",
   "id": "df7b6f9d",
   "metadata": {},
   "source": [
    "### Features"
   ]
  },
  {
   "cell_type": "code",
   "execution_count": 9,
   "id": "c23fcf00",
   "metadata": {},
   "outputs": [
    {
     "ename": "KeyError",
     "evalue": "'similaridade'",
     "output_type": "error",
     "traceback": [
      "\u001b[31m---------------------------------------------------------------------------\u001b[39m",
      "\u001b[31mKeyError\u001b[39m                                  Traceback (most recent call last)",
      "\u001b[36mFile \u001b[39m\u001b[32m~/Workspace/github.com/datathon-mlops-rh-ia/.venv/lib64/python3.11/site-packages/pandas/core/indexes/base.py:3812\u001b[39m, in \u001b[36mIndex.get_loc\u001b[39m\u001b[34m(self, key)\u001b[39m\n\u001b[32m   3811\u001b[39m \u001b[38;5;28;01mtry\u001b[39;00m:\n\u001b[32m-> \u001b[39m\u001b[32m3812\u001b[39m     \u001b[38;5;28;01mreturn\u001b[39;00m \u001b[38;5;28;43mself\u001b[39;49m\u001b[43m.\u001b[49m\u001b[43m_engine\u001b[49m\u001b[43m.\u001b[49m\u001b[43mget_loc\u001b[49m\u001b[43m(\u001b[49m\u001b[43mcasted_key\u001b[49m\u001b[43m)\u001b[49m\n\u001b[32m   3813\u001b[39m \u001b[38;5;28;01mexcept\u001b[39;00m \u001b[38;5;167;01mKeyError\u001b[39;00m \u001b[38;5;28;01mas\u001b[39;00m err:\n",
      "\u001b[36mFile \u001b[39m\u001b[32mpandas/_libs/index.pyx:167\u001b[39m, in \u001b[36mpandas._libs.index.IndexEngine.get_loc\u001b[39m\u001b[34m()\u001b[39m\n",
      "\u001b[36mFile \u001b[39m\u001b[32mpandas/_libs/index.pyx:196\u001b[39m, in \u001b[36mpandas._libs.index.IndexEngine.get_loc\u001b[39m\u001b[34m()\u001b[39m\n",
      "\u001b[36mFile \u001b[39m\u001b[32mpandas/_libs/hashtable_class_helper.pxi:7088\u001b[39m, in \u001b[36mpandas._libs.hashtable.PyObjectHashTable.get_item\u001b[39m\u001b[34m()\u001b[39m\n",
      "\u001b[36mFile \u001b[39m\u001b[32mpandas/_libs/hashtable_class_helper.pxi:7096\u001b[39m, in \u001b[36mpandas._libs.hashtable.PyObjectHashTable.get_item\u001b[39m\u001b[34m()\u001b[39m\n",
      "\u001b[31mKeyError\u001b[39m: 'similaridade'",
      "\nThe above exception was the direct cause of the following exception:\n",
      "\u001b[31mKeyError\u001b[39m                                  Traceback (most recent call last)",
      "\u001b[36mCell\u001b[39m\u001b[36m \u001b[39m\u001b[32mIn[9]\u001b[39m\u001b[32m, line 1\u001b[39m\n\u001b[32m----> \u001b[39m\u001b[32m1\u001b[39m \u001b[38;5;28mprint\u001b[39m(\u001b[43mdf_train\u001b[49m\u001b[43m[\u001b[49m\u001b[33;43m\"\u001b[39;49m\u001b[33;43msimilaridade\u001b[39;49m\u001b[33;43m\"\u001b[39;49m\u001b[43m]\u001b[49m.describe())\n",
      "\u001b[36mFile \u001b[39m\u001b[32m~/Workspace/github.com/datathon-mlops-rh-ia/.venv/lib64/python3.11/site-packages/pandas/core/frame.py:4107\u001b[39m, in \u001b[36mDataFrame.__getitem__\u001b[39m\u001b[34m(self, key)\u001b[39m\n\u001b[32m   4105\u001b[39m \u001b[38;5;28;01mif\u001b[39;00m \u001b[38;5;28mself\u001b[39m.columns.nlevels > \u001b[32m1\u001b[39m:\n\u001b[32m   4106\u001b[39m     \u001b[38;5;28;01mreturn\u001b[39;00m \u001b[38;5;28mself\u001b[39m._getitem_multilevel(key)\n\u001b[32m-> \u001b[39m\u001b[32m4107\u001b[39m indexer = \u001b[38;5;28;43mself\u001b[39;49m\u001b[43m.\u001b[49m\u001b[43mcolumns\u001b[49m\u001b[43m.\u001b[49m\u001b[43mget_loc\u001b[49m\u001b[43m(\u001b[49m\u001b[43mkey\u001b[49m\u001b[43m)\u001b[49m\n\u001b[32m   4108\u001b[39m \u001b[38;5;28;01mif\u001b[39;00m is_integer(indexer):\n\u001b[32m   4109\u001b[39m     indexer = [indexer]\n",
      "\u001b[36mFile \u001b[39m\u001b[32m~/Workspace/github.com/datathon-mlops-rh-ia/.venv/lib64/python3.11/site-packages/pandas/core/indexes/base.py:3819\u001b[39m, in \u001b[36mIndex.get_loc\u001b[39m\u001b[34m(self, key)\u001b[39m\n\u001b[32m   3814\u001b[39m     \u001b[38;5;28;01mif\u001b[39;00m \u001b[38;5;28misinstance\u001b[39m(casted_key, \u001b[38;5;28mslice\u001b[39m) \u001b[38;5;129;01mor\u001b[39;00m (\n\u001b[32m   3815\u001b[39m         \u001b[38;5;28misinstance\u001b[39m(casted_key, abc.Iterable)\n\u001b[32m   3816\u001b[39m         \u001b[38;5;129;01mand\u001b[39;00m \u001b[38;5;28many\u001b[39m(\u001b[38;5;28misinstance\u001b[39m(x, \u001b[38;5;28mslice\u001b[39m) \u001b[38;5;28;01mfor\u001b[39;00m x \u001b[38;5;129;01min\u001b[39;00m casted_key)\n\u001b[32m   3817\u001b[39m     ):\n\u001b[32m   3818\u001b[39m         \u001b[38;5;28;01mraise\u001b[39;00m InvalidIndexError(key)\n\u001b[32m-> \u001b[39m\u001b[32m3819\u001b[39m     \u001b[38;5;28;01mraise\u001b[39;00m \u001b[38;5;167;01mKeyError\u001b[39;00m(key) \u001b[38;5;28;01mfrom\u001b[39;00m\u001b[38;5;250m \u001b[39m\u001b[34;01merr\u001b[39;00m\n\u001b[32m   3820\u001b[39m \u001b[38;5;28;01mexcept\u001b[39;00m \u001b[38;5;167;01mTypeError\u001b[39;00m:\n\u001b[32m   3821\u001b[39m     \u001b[38;5;66;03m# If we have a listlike key, _check_indexing_error will raise\u001b[39;00m\n\u001b[32m   3822\u001b[39m     \u001b[38;5;66;03m#  InvalidIndexError. Otherwise we fall through and re-raise\u001b[39;00m\n\u001b[32m   3823\u001b[39m     \u001b[38;5;66;03m#  the TypeError.\u001b[39;00m\n\u001b[32m   3824\u001b[39m     \u001b[38;5;28mself\u001b[39m._check_indexing_error(key)\n",
      "\u001b[31mKeyError\u001b[39m: 'similaridade'"
     ]
    }
   ],
   "source": [
    "print(df_train[\"similaridade\"].describe())"
   ]
  },
  {
   "cell_type": "code",
   "execution_count": 8,
   "id": "c834c8a2",
   "metadata": {},
   "outputs": [
    {
     "name": "stderr",
     "output_type": "stream",
     "text": [
      "\u001b[32m2025-06-08 11:17:41.469\u001b[0m | \u001b[1mINFO    \u001b[0m | \u001b[36mapp.stages.feature_engineering_stage\u001b[0m:\u001b[36mapply_feature_pipeline\u001b[0m:\u001b[36m48\u001b[0m - \u001b[1m[Features] Aplicando transformações de encoding...\u001b[0m\n"
     ]
    },
    {
     "ename": "ValueError",
     "evalue": "A given column is not a column of the dataframe",
     "output_type": "error",
     "traceback": [
      "\u001b[31m---------------------------------------------------------------------------\u001b[39m",
      "\u001b[31mKeyError\u001b[39m                                  Traceback (most recent call last)",
      "\u001b[36mFile \u001b[39m\u001b[32m~/Workspace/github.com/datathon-mlops-rh-ia/.venv/lib64/python3.11/site-packages/pandas/core/indexes/base.py:3812\u001b[39m, in \u001b[36mIndex.get_loc\u001b[39m\u001b[34m(self, key)\u001b[39m\n\u001b[32m   3811\u001b[39m \u001b[38;5;28;01mtry\u001b[39;00m:\n\u001b[32m-> \u001b[39m\u001b[32m3812\u001b[39m     \u001b[38;5;28;01mreturn\u001b[39;00m \u001b[38;5;28;43mself\u001b[39;49m\u001b[43m.\u001b[49m\u001b[43m_engine\u001b[49m\u001b[43m.\u001b[49m\u001b[43mget_loc\u001b[49m\u001b[43m(\u001b[49m\u001b[43mcasted_key\u001b[49m\u001b[43m)\u001b[49m\n\u001b[32m   3813\u001b[39m \u001b[38;5;28;01mexcept\u001b[39;00m \u001b[38;5;167;01mKeyError\u001b[39;00m \u001b[38;5;28;01mas\u001b[39;00m err:\n",
      "\u001b[36mFile \u001b[39m\u001b[32mpandas/_libs/index.pyx:167\u001b[39m, in \u001b[36mpandas._libs.index.IndexEngine.get_loc\u001b[39m\u001b[34m()\u001b[39m\n",
      "\u001b[36mFile \u001b[39m\u001b[32mpandas/_libs/index.pyx:196\u001b[39m, in \u001b[36mpandas._libs.index.IndexEngine.get_loc\u001b[39m\u001b[34m()\u001b[39m\n",
      "\u001b[36mFile \u001b[39m\u001b[32mpandas/_libs/hashtable_class_helper.pxi:7088\u001b[39m, in \u001b[36mpandas._libs.hashtable.PyObjectHashTable.get_item\u001b[39m\u001b[34m()\u001b[39m\n",
      "\u001b[36mFile \u001b[39m\u001b[32mpandas/_libs/hashtable_class_helper.pxi:7096\u001b[39m, in \u001b[36mpandas._libs.hashtable.PyObjectHashTable.get_item\u001b[39m\u001b[34m()\u001b[39m\n",
      "\u001b[31mKeyError\u001b[39m: 'similaridade_vaga_cv'",
      "\nThe above exception was the direct cause of the following exception:\n",
      "\u001b[31mKeyError\u001b[39m                                  Traceback (most recent call last)",
      "\u001b[36mFile \u001b[39m\u001b[32m~/Workspace/github.com/datathon-mlops-rh-ia/.venv/lib64/python3.11/site-packages/sklearn/utils/_indexing.py:431\u001b[39m, in \u001b[36m_get_column_indices\u001b[39m\u001b[34m(X, key)\u001b[39m\n\u001b[32m    430\u001b[39m \u001b[38;5;28;01mfor\u001b[39;00m col \u001b[38;5;129;01min\u001b[39;00m columns:\n\u001b[32m--> \u001b[39m\u001b[32m431\u001b[39m     col_idx = \u001b[43mall_columns\u001b[49m\u001b[43m.\u001b[49m\u001b[43mget_loc\u001b[49m\u001b[43m(\u001b[49m\u001b[43mcol\u001b[49m\u001b[43m)\u001b[49m\n\u001b[32m    432\u001b[39m     \u001b[38;5;28;01mif\u001b[39;00m \u001b[38;5;129;01mnot\u001b[39;00m \u001b[38;5;28misinstance\u001b[39m(col_idx, numbers.Integral):\n",
      "\u001b[36mFile \u001b[39m\u001b[32m~/Workspace/github.com/datathon-mlops-rh-ia/.venv/lib64/python3.11/site-packages/pandas/core/indexes/base.py:3819\u001b[39m, in \u001b[36mIndex.get_loc\u001b[39m\u001b[34m(self, key)\u001b[39m\n\u001b[32m   3818\u001b[39m         \u001b[38;5;28;01mraise\u001b[39;00m InvalidIndexError(key)\n\u001b[32m-> \u001b[39m\u001b[32m3819\u001b[39m     \u001b[38;5;28;01mraise\u001b[39;00m \u001b[38;5;167;01mKeyError\u001b[39;00m(key) \u001b[38;5;28;01mfrom\u001b[39;00m\u001b[38;5;250m \u001b[39m\u001b[34;01merr\u001b[39;00m\n\u001b[32m   3820\u001b[39m \u001b[38;5;28;01mexcept\u001b[39;00m \u001b[38;5;167;01mTypeError\u001b[39;00m:\n\u001b[32m   3821\u001b[39m     \u001b[38;5;66;03m# If we have a listlike key, _check_indexing_error will raise\u001b[39;00m\n\u001b[32m   3822\u001b[39m     \u001b[38;5;66;03m#  InvalidIndexError. Otherwise we fall through and re-raise\u001b[39;00m\n\u001b[32m   3823\u001b[39m     \u001b[38;5;66;03m#  the TypeError.\u001b[39;00m\n",
      "\u001b[31mKeyError\u001b[39m: 'similaridade_vaga_cv'",
      "\nThe above exception was the direct cause of the following exception:\n",
      "\u001b[31mValueError\u001b[39m                                Traceback (most recent call last)",
      "\u001b[36mCell\u001b[39m\u001b[36m \u001b[39m\u001b[32mIn[8]\u001b[39m\u001b[32m, line 3\u001b[39m\n\u001b[32m      1\u001b[39m \u001b[38;5;28;01mfrom\u001b[39;00m\u001b[38;5;250m \u001b[39m\u001b[34;01mapp\u001b[39;00m\u001b[34;01m.\u001b[39;00m\u001b[34;01mstages\u001b[39;00m\u001b[34;01m.\u001b[39;00m\u001b[34;01mfeature_engineering_stage\u001b[39;00m\u001b[38;5;250m \u001b[39m\u001b[38;5;28;01mimport\u001b[39;00m apply_feature_pipeline\n\u001b[32m----> \u001b[39m\u001b[32m3\u001b[39m X_train, y_train, group_train, X_val, y_val, group_val, X_test, y_test, group_test, pipe = \u001b[43mapply_feature_pipeline\u001b[49m\u001b[43m(\u001b[49m\n\u001b[32m      4\u001b[39m \u001b[43m    \u001b[49m\u001b[43mdf_train\u001b[49m\u001b[43m,\u001b[49m\u001b[43m \u001b[49m\u001b[43mdf_val\u001b[49m\u001b[43m,\u001b[49m\u001b[43m \u001b[49m\u001b[43mdf_test\u001b[49m\n\u001b[32m      5\u001b[39m \u001b[43m)\u001b[49m\n",
      "\u001b[36mFile \u001b[39m\u001b[32m~/Workspace/github.com/datathon-mlops-rh-ia/app/stages/feature_engineering_stage.py:79\u001b[39m, in \u001b[36mapply_feature_pipeline\u001b[39m\u001b[34m(df_train, df_val, df_test)\u001b[39m\n\u001b[32m     76\u001b[39m group_test = df_test.groupby(\u001b[33m\"\u001b[39m\u001b[33mcodigo_vaga\u001b[39m\u001b[33m\"\u001b[39m).size().values\n\u001b[32m     78\u001b[39m pipe = get_preprocessing_pipeline()\n\u001b[32m---> \u001b[39m\u001b[32m79\u001b[39m X_train = \u001b[43mpipe\u001b[49m\u001b[43m.\u001b[49m\u001b[43mfit_transform\u001b[49m\u001b[43m(\u001b[49m\u001b[43mdf_train\u001b[49m\u001b[43m)\u001b[49m\n\u001b[32m     80\u001b[39m X_val = pipe.transform(df_val)\n\u001b[32m     81\u001b[39m X_test = pipe.transform(df_test)\n",
      "\u001b[36mFile \u001b[39m\u001b[32m~/Workspace/github.com/datathon-mlops-rh-ia/.venv/lib64/python3.11/site-packages/sklearn/utils/_set_output.py:316\u001b[39m, in \u001b[36m_wrap_method_output.<locals>.wrapped\u001b[39m\u001b[34m(self, X, *args, **kwargs)\u001b[39m\n\u001b[32m    314\u001b[39m \u001b[38;5;129m@wraps\u001b[39m(f)\n\u001b[32m    315\u001b[39m \u001b[38;5;28;01mdef\u001b[39;00m\u001b[38;5;250m \u001b[39m\u001b[34mwrapped\u001b[39m(\u001b[38;5;28mself\u001b[39m, X, *args, **kwargs):\n\u001b[32m--> \u001b[39m\u001b[32m316\u001b[39m     data_to_wrap = \u001b[43mf\u001b[49m\u001b[43m(\u001b[49m\u001b[38;5;28;43mself\u001b[39;49m\u001b[43m,\u001b[49m\u001b[43m \u001b[49m\u001b[43mX\u001b[49m\u001b[43m,\u001b[49m\u001b[43m \u001b[49m\u001b[43m*\u001b[49m\u001b[43margs\u001b[49m\u001b[43m,\u001b[49m\u001b[43m \u001b[49m\u001b[43m*\u001b[49m\u001b[43m*\u001b[49m\u001b[43mkwargs\u001b[49m\u001b[43m)\u001b[49m\n\u001b[32m    317\u001b[39m     \u001b[38;5;28;01mif\u001b[39;00m \u001b[38;5;28misinstance\u001b[39m(data_to_wrap, \u001b[38;5;28mtuple\u001b[39m):\n\u001b[32m    318\u001b[39m         \u001b[38;5;66;03m# only wrap the first output for cross decomposition\u001b[39;00m\n\u001b[32m    319\u001b[39m         return_tuple = (\n\u001b[32m    320\u001b[39m             _wrap_data_with_container(method, data_to_wrap[\u001b[32m0\u001b[39m], X, \u001b[38;5;28mself\u001b[39m),\n\u001b[32m    321\u001b[39m             *data_to_wrap[\u001b[32m1\u001b[39m:],\n\u001b[32m    322\u001b[39m         )\n",
      "\u001b[36mFile \u001b[39m\u001b[32m~/Workspace/github.com/datathon-mlops-rh-ia/.venv/lib64/python3.11/site-packages/sklearn/base.py:1363\u001b[39m, in \u001b[36m_fit_context.<locals>.decorator.<locals>.wrapper\u001b[39m\u001b[34m(estimator, *args, **kwargs)\u001b[39m\n\u001b[32m   1356\u001b[39m     estimator._validate_params()\n\u001b[32m   1358\u001b[39m \u001b[38;5;28;01mwith\u001b[39;00m config_context(\n\u001b[32m   1359\u001b[39m     skip_parameter_validation=(\n\u001b[32m   1360\u001b[39m         prefer_skip_nested_validation \u001b[38;5;129;01mor\u001b[39;00m global_skip_validation\n\u001b[32m   1361\u001b[39m     )\n\u001b[32m   1362\u001b[39m ):\n\u001b[32m-> \u001b[39m\u001b[32m1363\u001b[39m     \u001b[38;5;28;01mreturn\u001b[39;00m \u001b[43mfit_method\u001b[49m\u001b[43m(\u001b[49m\u001b[43mestimator\u001b[49m\u001b[43m,\u001b[49m\u001b[43m \u001b[49m\u001b[43m*\u001b[49m\u001b[43margs\u001b[49m\u001b[43m,\u001b[49m\u001b[43m \u001b[49m\u001b[43m*\u001b[49m\u001b[43m*\u001b[49m\u001b[43mkwargs\u001b[49m\u001b[43m)\u001b[49m\n",
      "\u001b[36mFile \u001b[39m\u001b[32m~/Workspace/github.com/datathon-mlops-rh-ia/.venv/lib64/python3.11/site-packages/sklearn/compose/_column_transformer.py:988\u001b[39m, in \u001b[36mColumnTransformer.fit_transform\u001b[39m\u001b[34m(self, X, y, **params)\u001b[39m\n\u001b[32m    985\u001b[39m \u001b[38;5;28mself\u001b[39m._validate_transformers()\n\u001b[32m    986\u001b[39m n_samples = _num_samples(X)\n\u001b[32m--> \u001b[39m\u001b[32m988\u001b[39m \u001b[38;5;28;43mself\u001b[39;49m\u001b[43m.\u001b[49m\u001b[43m_validate_column_callables\u001b[49m\u001b[43m(\u001b[49m\u001b[43mX\u001b[49m\u001b[43m)\u001b[49m\n\u001b[32m    989\u001b[39m \u001b[38;5;28mself\u001b[39m._validate_remainder(X)\n\u001b[32m    991\u001b[39m \u001b[38;5;28;01mif\u001b[39;00m _routing_enabled():\n",
      "\u001b[36mFile \u001b[39m\u001b[32m~/Workspace/github.com/datathon-mlops-rh-ia/.venv/lib64/python3.11/site-packages/sklearn/compose/_column_transformer.py:541\u001b[39m, in \u001b[36mColumnTransformer._validate_column_callables\u001b[39m\u001b[34m(self, X)\u001b[39m\n\u001b[32m    539\u001b[39m         columns = columns(X)\n\u001b[32m    540\u001b[39m     all_columns.append(columns)\n\u001b[32m--> \u001b[39m\u001b[32m541\u001b[39m     transformer_to_input_indices[name] = \u001b[43m_get_column_indices\u001b[49m\u001b[43m(\u001b[49m\u001b[43mX\u001b[49m\u001b[43m,\u001b[49m\u001b[43m \u001b[49m\u001b[43mcolumns\u001b[49m\u001b[43m)\u001b[49m\n\u001b[32m    543\u001b[39m \u001b[38;5;28mself\u001b[39m._columns = all_columns\n\u001b[32m    544\u001b[39m \u001b[38;5;28mself\u001b[39m._transformer_to_input_indices = transformer_to_input_indices\n",
      "\u001b[36mFile \u001b[39m\u001b[32m~/Workspace/github.com/datathon-mlops-rh-ia/.venv/lib64/python3.11/site-packages/sklearn/utils/_indexing.py:439\u001b[39m, in \u001b[36m_get_column_indices\u001b[39m\u001b[34m(X, key)\u001b[39m\n\u001b[32m    436\u001b[39m         column_indices.append(col_idx)\n\u001b[32m    438\u001b[39m \u001b[38;5;28;01mexcept\u001b[39;00m \u001b[38;5;167;01mKeyError\u001b[39;00m \u001b[38;5;28;01mas\u001b[39;00m e:\n\u001b[32m--> \u001b[39m\u001b[32m439\u001b[39m     \u001b[38;5;28;01mraise\u001b[39;00m \u001b[38;5;167;01mValueError\u001b[39;00m(\u001b[33m\"\u001b[39m\u001b[33mA given column is not a column of the dataframe\u001b[39m\u001b[33m\"\u001b[39m) \u001b[38;5;28;01mfrom\u001b[39;00m\u001b[38;5;250m \u001b[39m\u001b[34;01me\u001b[39;00m\n\u001b[32m    441\u001b[39m \u001b[38;5;28;01mreturn\u001b[39;00m column_indices\n",
      "\u001b[31mValueError\u001b[39m: A given column is not a column of the dataframe"
     ]
    }
   ],
   "source": [
    "from app.stages.feature_engineering_stage import apply_feature_pipeline\n",
    "\n",
    "X_train, y_train, group_train, X_val, y_val, group_val, X_test, y_test, group_test, pipe = apply_feature_pipeline(\n",
    "    df_train, df_val, df_test\n",
    ")\n"
   ]
  },
  {
   "cell_type": "code",
   "execution_count": null,
   "id": "cf92d8bd",
   "metadata": {},
   "outputs": [],
   "source": []
  }
 ],
 "metadata": {
  "kernelspec": {
   "display_name": ".venv",
   "language": "python",
   "name": "python3"
  },
  "language_info": {
   "codemirror_mode": {
    "name": "ipython",
    "version": 3
   },
   "file_extension": ".py",
   "mimetype": "text/x-python",
   "name": "python",
   "nbconvert_exporter": "python",
   "pygments_lexer": "ipython3",
   "version": "3.11.12"
  }
 },
 "nbformat": 4,
 "nbformat_minor": 5
}
