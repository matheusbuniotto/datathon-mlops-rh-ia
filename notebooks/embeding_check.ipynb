{
 "cells": [
  {
   "cell_type": "code",
   "execution_count": null,
   "id": "18e770e1",
   "metadata": {},
   "outputs": [
    {
     "name": "stderr",
     "output_type": "stream",
     "text": [
      "\u001b[32m2025-06-09 20:52:59.315\u001b[0m | \u001b[1mINFO    \u001b[0m | \u001b[36mapp.stages.data_split_stage\u001b[0m:\u001b[36msplit_dataset_by_vaga\u001b[0m:\u001b[36m7\u001b[0m - \u001b[1m[Split] Iniciando divisão do dataset por vaga...\u001b[0m\n",
      "\u001b[32m2025-06-09 20:52:59.338\u001b[0m | \u001b[32m\u001b[1mSUCCESS \u001b[0m | \u001b[36mapp.stages.data_split_stage\u001b[0m:\u001b[36msplit_dataset_by_vaga\u001b[0m:\u001b[36m22\u001b[0m - \u001b[32m\u001b[1m[Split] Feito! Tamanhos: train=36412, val=4386, test=4273\u001b[0m\n",
      "\u001b[32m2025-06-09 20:52:59.353\u001b[0m | \u001b[1mINFO    \u001b[0m | \u001b[36mapp.stages.feature_engineering_stage\u001b[0m:\u001b[36mapply_feature_pipeline\u001b[0m:\u001b[36m132\u001b[0m - \u001b[1m[Features] Applying encoding transformations...\u001b[0m\n",
      "\u001b[32m2025-06-09 20:52:59.354\u001b[0m | \u001b[1mINFO    \u001b[0m | \u001b[36mapp.stages.feature_engineering_stage\u001b[0m:\u001b[36mapply_feature_pipeline\u001b[0m:\u001b[36m135\u001b[0m - \u001b[1m[Features] Expanding embeddings...\u001b[0m\n",
      "\u001b[32m2025-06-09 20:53:05.025\u001b[0m | \u001b[32m\u001b[1mSUCCESS \u001b[0m | \u001b[36mapp.stages.feature_engineering_stage\u001b[0m:\u001b[36mapply_feature_pipeline\u001b[0m:\u001b[36m139\u001b[0m - \u001b[32m\u001b[1m[Features] Embeddings expanded successfully.\u001b[0m\n",
      "\u001b[32m2025-06-09 20:53:05.382\u001b[0m | \u001b[1mINFO    \u001b[0m | \u001b[36mapp.stages.feature_engineering_stage\u001b[0m:\u001b[36mapply_feature_pipeline\u001b[0m:\u001b[36m154\u001b[0m - \u001b[1m[Features] Cleaning area of expertise columns...\u001b[0m\n",
      "\u001b[32m2025-06-09 20:53:05.562\u001b[0m | \u001b[32m\u001b[1mSUCCESS \u001b[0m | \u001b[36mapp.stages.feature_engineering_stage\u001b[0m:\u001b[36mapply_feature_pipeline\u001b[0m:\u001b[36m166\u001b[0m - \u001b[32m\u001b[1m[Features] Area of expertise columns cleaned successfully.\u001b[0m\n",
      "\u001b[32m2025-06-09 20:53:05.562\u001b[0m | \u001b[1mINFO    \u001b[0m | \u001b[36mapp.stages.feature_engineering_stage\u001b[0m:\u001b[36mapply_feature_pipeline\u001b[0m:\u001b[36m168\u001b[0m - \u001b[1m[Features] Calculating area similarity...\u001b[0m\n"
     ]
    }
   ],
   "source": [
    "import os\n",
    "import sys\n",
    "import pandas as pd\n",
    "sys.path.append(os.path.abspath('..'))\n",
    "\n",
    "from app.stages.data_split_stage import split_dataset_by_vaga\n",
    "from app.stages.feature_engineering_stage import apply_feature_pipeline\n",
    "import numpy as np\n",
    "\n",
    "df = pd.read_parquet(\"../data/processed/rank_ready.parquet\")\n",
    "df_train, df_val, df_test = split_dataset_by_vaga(df)\n",
    "X_train, y_train, group_train, X_val, y_val, group_val, X_test, y_test, group_test, pipe = apply_feature_pipeline(df_train, df_val, df_test)\n",
    "\n",
    "feature_names = np.load(\"../data/model_input/feature_names.npy\", allow_pickle=True)\n",
    "print(\"Feature names:\", feature_names.tolist())\n",
    "print(\"X_train shape:\", X_train.shape)\n",
    "print(\"Number of emb_cv_pca features:\", sum(f.startswith(\"emb_cv_pca_\") for f in feature_names))"
   ]
  },
  {
   "cell_type": "code",
   "execution_count": 1,
   "id": "5c75ca5e",
   "metadata": {},
   "outputs": [
    {
     "name": "stderr",
     "output_type": "stream",
     "text": [
      "\u001b[32m2025-06-09 20:53:09.029\u001b[0m | \u001b[1mINFO    \u001b[0m | \u001b[36mapp.stages.data_split_stage\u001b[0m:\u001b[36msplit_dataset_by_vaga\u001b[0m:\u001b[36m7\u001b[0m - \u001b[1m[Split] Iniciando divisão do dataset por vaga...\u001b[0m\n",
      "\u001b[32m2025-06-09 20:53:09.054\u001b[0m | \u001b[32m\u001b[1mSUCCESS \u001b[0m | \u001b[36mapp.stages.data_split_stage\u001b[0m:\u001b[36msplit_dataset_by_vaga\u001b[0m:\u001b[36m22\u001b[0m - \u001b[32m\u001b[1m[Split] Feito! Tamanhos: train=36412, val=4386, test=4273\u001b[0m\n",
      "\u001b[32m2025-06-09 20:53:09.071\u001b[0m | \u001b[1mINFO    \u001b[0m | \u001b[36mapp.stages.feature_engineering_stage\u001b[0m:\u001b[36mapply_feature_pipeline\u001b[0m:\u001b[36m132\u001b[0m - \u001b[1m[Features] Applying encoding transformations...\u001b[0m\n",
      "\u001b[32m2025-06-09 20:53:09.072\u001b[0m | \u001b[1mINFO    \u001b[0m | \u001b[36mapp.stages.feature_engineering_stage\u001b[0m:\u001b[36mapply_feature_pipeline\u001b[0m:\u001b[36m135\u001b[0m - \u001b[1m[Features] Expanding embeddings...\u001b[0m\n",
      "\u001b[32m2025-06-09 20:53:14.775\u001b[0m | \u001b[32m\u001b[1mSUCCESS \u001b[0m | \u001b[36mapp.stages.feature_engineering_stage\u001b[0m:\u001b[36mapply_feature_pipeline\u001b[0m:\u001b[36m139\u001b[0m - \u001b[32m\u001b[1m[Features] Embeddings expanded successfully.\u001b[0m\n",
      "\u001b[32m2025-06-09 20:53:15.131\u001b[0m | \u001b[1mINFO    \u001b[0m | \u001b[36mapp.stages.feature_engineering_stage\u001b[0m:\u001b[36mapply_feature_pipeline\u001b[0m:\u001b[36m154\u001b[0m - \u001b[1m[Features] Cleaning area of expertise columns...\u001b[0m\n",
      "\u001b[32m2025-06-09 20:53:15.310\u001b[0m | \u001b[32m\u001b[1mSUCCESS \u001b[0m | \u001b[36mapp.stages.feature_engineering_stage\u001b[0m:\u001b[36mapply_feature_pipeline\u001b[0m:\u001b[36m166\u001b[0m - \u001b[32m\u001b[1m[Features] Area of expertise columns cleaned successfully.\u001b[0m\n",
      "\u001b[32m2025-06-09 20:53:15.311\u001b[0m | \u001b[1mINFO    \u001b[0m | \u001b[36mapp.stages.feature_engineering_stage\u001b[0m:\u001b[36mapply_feature_pipeline\u001b[0m:\u001b[36m168\u001b[0m - \u001b[1m[Features] Calculating area similarity...\u001b[0m\n",
      "\u001b[32m2025-06-09 20:53:16.498\u001b[0m | \u001b[32m\u001b[1mSUCCESS \u001b[0m | \u001b[36mapp.stages.feature_engineering_stage\u001b[0m:\u001b[36mapply_feature_pipeline\u001b[0m:\u001b[36m172\u001b[0m - \u001b[32m\u001b[1m[Features] Area similarity calculated successfully.\u001b[0m\n",
      "\u001b[32m2025-06-09 20:53:16.500\u001b[0m | \u001b[1mINFO    \u001b[0m | \u001b[36mapp.stages.feature_engineering_stage\u001b[0m:\u001b[36mapply_feature_pipeline\u001b[0m:\u001b[36m183\u001b[0m - \u001b[1m[Features] Fitting transformation pipeline...\u001b[0m\n",
      "\u001b[32m2025-06-09 20:53:16.756\u001b[0m | \u001b[1mINFO    \u001b[0m | \u001b[36mapp.stages.feature_engineering_stage\u001b[0m:\u001b[36mapply_feature_pipeline\u001b[0m:\u001b[36m188\u001b[0m - \u001b[1m[Features] Extracting feature names...\u001b[0m\n",
      "\u001b[32m2025-06-09 20:53:16.756\u001b[0m | \u001b[1mINFO    \u001b[0m | \u001b[36mapp.stages.feature_engineering_stage\u001b[0m:\u001b[36mget_feature_names_from_pipeline\u001b[0m:\u001b[36m85\u001b[0m - \u001b[1m[Features] Extracted 149 feature names from pipeline\u001b[0m\n",
      "\u001b[32m2025-06-09 20:53:16.765\u001b[0m | \u001b[1mINFO    \u001b[0m | \u001b[36mapp.stages.feature_engineering_stage\u001b[0m:\u001b[36mapply_feature_pipeline\u001b[0m:\u001b[36m193\u001b[0m - \u001b[1m[Features] Pipeline saved to data/model_input/preprocessing_pipeline.pkl\u001b[0m\n",
      "\u001b[32m2025-06-09 20:53:16.766\u001b[0m | \u001b[32m\u001b[1mSUCCESS \u001b[0m | \u001b[36mapp.stages.feature_engineering_stage\u001b[0m:\u001b[36mapply_feature_pipeline\u001b[0m:\u001b[36m195\u001b[0m - \u001b[32m\u001b[1m[Features] Feature pipeline applied successfully.\u001b[0m\n",
      "\u001b[32m2025-06-09 20:53:16.766\u001b[0m | \u001b[1mINFO    \u001b[0m | \u001b[36mapp.stages.feature_engineering_stage\u001b[0m:\u001b[36mapply_feature_pipeline\u001b[0m:\u001b[36m198\u001b[0m - \u001b[1m[Features] === FEATURE SUMMARY ===\u001b[0m\n",
      "\u001b[32m2025-06-09 20:53:16.769\u001b[0m | \u001b[1mINFO    \u001b[0m | \u001b[36mapp.stages.feature_engineering_stage\u001b[0m:\u001b[36mapply_feature_pipeline\u001b[0m:\u001b[36m199\u001b[0m - \u001b[1m[Features] Total features: 149\u001b[0m\n",
      "\u001b[32m2025-06-09 20:53:16.769\u001b[0m | \u001b[1mINFO    \u001b[0m | \u001b[36mapp.stages.feature_engineering_stage\u001b[0m:\u001b[36mapply_feature_pipeline\u001b[0m:\u001b[36m200\u001b[0m - \u001b[1m[Features] Matrix shape: (36412, 149)\u001b[0m\n",
      "\u001b[32m2025-06-09 20:53:16.772\u001b[0m | \u001b[1mINFO    \u001b[0m | \u001b[36mapp.stages.feature_engineering_stage\u001b[0m:\u001b[36mapply_feature_pipeline\u001b[0m:\u001b[36m206\u001b[0m - \u001b[1m[Features] Ordinal Features (5): ['nivel_profissional', 'nivel_profissional_vaga', 'nivel_academico', 'nivel_ingles', 'nivel_ingles_vaga']\u001b[0m\n",
      "\u001b[32m2025-06-09 20:53:16.773\u001b[0m | \u001b[1mINFO    \u001b[0m | \u001b[36mapp.stages.feature_engineering_stage\u001b[0m:\u001b[36mapply_feature_pipeline\u001b[0m:\u001b[36m207\u001b[0m - \u001b[1m[Features] Numerical Features (52): ['emb_cv_pca_0', 'emb_cv_pca_1', 'emb_cv_pca_2', 'emb_cv_pca_3', 'emb_cv_pca_4', 'emb_cv_pca_5', 'emb_cv_pca_6', 'emb_cv_pca_7', 'emb_cv_pca_8', 'emb_cv_pca_9', '...']\u001b[0m\n",
      "\u001b[32m2025-06-09 20:53:16.773\u001b[0m | \u001b[1mINFO    \u001b[0m | \u001b[36mapp.stages.feature_engineering_stage\u001b[0m:\u001b[36mapply_feature_pipeline\u001b[0m:\u001b[36m208\u001b[0m - \u001b[1m[Features] Categorical Features: 92\u001b[0m\n",
      "\u001b[32m2025-06-09 20:53:16.774\u001b[0m | \u001b[1mINFO    \u001b[0m | \u001b[36mapp.stages.feature_engineering_stage\u001b[0m:\u001b[36mapply_feature_pipeline\u001b[0m:\u001b[36m213\u001b[0m - \u001b[1m[Features] First 10 Categorical: ['cliente_Barnes-Woods', 'cliente_Bell Group', 'cliente_Bishop-Reed', 'cliente_Bowers, Oconnor and Williams', 'cliente_Callahan-Hall', 'cliente_Chapman, Brown and Hart', 'cliente_Craig-Webb', 'cliente_Dougherty-Gilbert', 'cliente_Glover, Warren and Norris', 'cliente_Gonzalez and Sons']\u001b[0m\n",
      "\u001b[32m2025-06-09 20:53:16.775\u001b[0m | \u001b[1mINFO    \u001b[0m | \u001b[36mapp.stages.feature_engineering_stage\u001b[0m:\u001b[36mapply_feature_pipeline\u001b[0m:\u001b[36m214\u001b[0m - \u001b[1m[Features] ... and 82 more categorical features\u001b[0m\n",
      "\u001b[32m2025-06-09 20:53:16.775\u001b[0m | \u001b[1mINFO    \u001b[0m | \u001b[36mapp.stages.feature_engineering_stage\u001b[0m:\u001b[36mapply_feature_pipeline\u001b[0m:\u001b[36m216\u001b[0m - \u001b[1m[Features] =====================================\u001b[0m\n",
      "\u001b[32m2025-06-09 20:53:16.777\u001b[0m | \u001b[1mINFO    \u001b[0m | \u001b[36mapp.stages.feature_engineering_stage\u001b[0m:\u001b[36mapply_feature_pipeline\u001b[0m:\u001b[36m218\u001b[0m - \u001b[1m[Features] Saving model input...\u001b[0m\n",
      "\u001b[32m2025-06-09 20:53:17.647\u001b[0m | \u001b[1mINFO    \u001b[0m | \u001b[36mapp.stages.feature_engineering_stage\u001b[0m:\u001b[36msave_model_input\u001b[0m:\u001b[36m127\u001b[0m - \u001b[1m[Features] Saved 149 feature names to data/model_input\u001b[0m\n",
      "\u001b[32m2025-06-09 20:53:17.647\u001b[0m | \u001b[32m\u001b[1mSUCCESS \u001b[0m | \u001b[36mapp.stages.feature_engineering_stage\u001b[0m:\u001b[36mapply_feature_pipeline\u001b[0m:\u001b[36m220\u001b[0m - \u001b[32m\u001b[1m[Features] Model input saved successfully.\u001b[0m\n",
      "\u001b[32m2025-06-09 20:53:17.647\u001b[0m | \u001b[1mINFO    \u001b[0m | \u001b[36mapp.stages.feature_engineering_stage\u001b[0m:\u001b[36mapply_feature_pipeline\u001b[0m:\u001b[36m221\u001b[0m - \u001b[1m[Features] Feature pipeline completed.\u001b[0m\n"
     ]
    },
    {
     "name": "stdout",
     "output_type": "stream",
     "text": [
      "Feature names: ['nivel_profissional', 'nivel_profissional_vaga', 'nivel_academico', 'nivel_ingles', 'nivel_ingles_vaga', 'cliente_Barnes-Woods', 'cliente_Bell Group', 'cliente_Bishop-Reed', 'cliente_Bowers, Oconnor and Williams', 'cliente_Callahan-Hall', 'cliente_Chapman, Brown and Hart', 'cliente_Craig-Webb', 'cliente_Dougherty-Gilbert', 'cliente_Glover, Warren and Norris', 'cliente_Gonzalez and Sons', 'cliente_Griffith-Webb', 'cliente_Jenkins-Walker', 'cliente_Jimenez PLC', 'cliente_Johnson-Aguirre', 'cliente_Johnson-Pratt', 'cliente_Jones-Hodges', 'cliente_King-Russell', 'cliente_Luna-Carpenter', 'cliente_Mann and Sons', 'cliente_Miller, Tran and Chang', 'cliente_Miller-Curry', 'cliente_Morris, Moran and Dodson', 'cliente_Morrison Ltd', 'cliente_Nelson-Page', 'cliente_Porter-Wilson', 'cliente_Wade, Bernard and Bailey', 'cliente_Walters Group', 'cliente_Williams, Clark and Lynn', 'cliente_infrequent_sklearn', 'recrutador_Agatha Montenegro', 'recrutador_Ana Camargo', 'recrutador_Ana Lívia Moreira', 'recrutador_Ana Sophia Oliveira', 'recrutador_Aylla Leão', 'recrutador_Carlos Eduardo Ribeiro', 'recrutador_Carolina Araújo', 'recrutador_Caroline Machado', 'recrutador_Clara Rios', 'recrutador_Dr. Luan Sá', 'recrutador_Dra. Luara Siqueira', 'recrutador_Elisa Barbosa', 'recrutador_Elisa Nunes', 'recrutador_Eloah Leão', 'recrutador_Emanuella Campos', 'recrutador_Emanuelly Vieira', 'recrutador_Helena Barros', 'recrutador_Juliana Cassiano', 'recrutador_Lara Duarte', 'recrutador_Laura Pacheco', 'recrutador_Liz Freitas', 'recrutador_Luara Câmara', 'recrutador_Luna Correia', 'recrutador_Lunna Fonseca', 'recrutador_Manuella Carvalho', 'recrutador_Maria Clara Pires', 'recrutador_Maria Vitória Machado', 'recrutador_Mariah Vasconcelos', 'recrutador_Mariane Moreira', 'recrutador_Melina Montenegro', 'recrutador_Natália Cavalcanti', 'recrutador_Paulo Peixoto', 'recrutador_Raquel Vieira', 'recrutador_Sra. Giovanna Sousa', 'recrutador_Sra. Joana Sousa', 'recrutador_Sra. Manuella Oliveira', 'recrutador_Srta. Bella Ferreira', 'recrutador_Srta. Maria Carvalho', 'recrutador_Stella Vieira', 'recrutador_Yasmin da Rosa', 'recrutador_Ágatha da Paz', 'recrutador_infrequent_sklearn', 'vaga_areas_atuacao_clean_Administrativa', 'vaga_areas_atuacao_clean_Comercial', 'vaga_areas_atuacao_clean_Financeira/Controladoria', 'vaga_areas_atuacao_clean_Gestão_e_Alocação_de_Recursos_de_TI', 'vaga_areas_atuacao_clean_Gestão_e_Alocação_de_Recursos_de_TI_TI_Desenvolvimento/Programação', 'vaga_areas_atuacao_clean_Gestão_e_Alocação_de_Recursos_de_TI_TI_Infraestrutura', 'vaga_areas_atuacao_clean_Gestão_e_Alocação_de_Recursos_de_TI_TI_SAP', 'vaga_areas_atuacao_clean_Recursos_Humanos', 'vaga_areas_atuacao_clean_TI_Arquitetura', 'vaga_areas_atuacao_clean_TI_Banco_de_Dados', 'vaga_areas_atuacao_clean_TI_Desenvolvimento/Design', 'vaga_areas_atuacao_clean_TI_Desenvolvimento/Mobile', 'vaga_areas_atuacao_clean_TI_Desenvolvimento/Programação', 'vaga_areas_atuacao_clean_TI_Infraestrutura', 'vaga_areas_atuacao_clean_TI_Processos_e_Negócios', 'vaga_areas_atuacao_clean_TI_Projetos', 'vaga_areas_atuacao_clean_TI_Qualidade/Testes', 'vaga_areas_atuacao_clean_TI_SAP', 'vaga_areas_atuacao_clean_TI_Sistemas_e_Ferramentas', 'vaga_areas_atuacao_clean_TI_Suporte', 'vaga_areas_atuacao_clean_infrequent_sklearn', 'vaga_sap', 'area_similarity']\n",
      "X_train shape: (36412, 149)\n",
      "Number of embedding features: 0\n"
     ]
    }
   ],
   "source": [
    "import os\n",
    "import sys\n",
    "import pandas as pd\n",
    "sys.path.append(os.path.abspath('..'))\n",
    "from app.stages.data_split_stage import split_dataset_by_vaga\n",
    "from app.stages.feature_engineering_stage import apply_feature_pipeline\n",
    "import pandas as pd\n",
    "import numpy as np\n",
    "\n",
    "# Load data and split\n",
    "df = pd.read_parquet(\"../data/processed/rank_ready.parquet\")\n",
    "df_train, df_val, df_test = split_dataset_by_vaga(df)\n",
    "\n",
    "# Apply pipeline with updated get_preprocessing_pipeline\n",
    "X_train, y_train, group_train, X_val, y_val, group_val, X_test, y_test, group_test, pipe = apply_feature_pipeline(df_train, df_val, df_test)\n",
    "\n",
    "# Load feature names and check shape\n",
    "feature_names = np.load(\"../data/model_input/feature_names.npy\", allow_pickle=True)\n",
    "print(\"Feature names:\", feature_names.tolist())\n",
    "print(\"X_train shape:\", X_train.shape)\n",
    "print(\"Number of embedding features:\", sum('emb_vaga_' in f or 'emb_cv_' in f for f in feature_names))"
   ]
  },
  {
   "cell_type": "code",
   "execution_count": 3,
   "id": "1dc68a3a",
   "metadata": {},
   "outputs": [
    {
     "name": "stdout",
     "output_type": "stream",
     "text": [
      "DataFrame shape: (45071, 30)\n",
      "Sample emb_vaga type and length: <class 'numpy.ndarray'> 384\n",
      "Sample emb_cv type and length: <class 'numpy.ndarray'> 384\n",
      "Any null embeddings: emb_vaga    0\n",
      "emb_cv      0\n",
      "dtype: int64\n"
     ]
    }
   ],
   "source": [
    "import pandas as pd\n",
    "df = pd.read_parquet(\"../data/embeddings/combined_embeddings.parquet\") \n",
    "print(\"DataFrame shape:\", df.shape)\n",
    "print(\"Sample emb_vaga type and length:\", type(df['emb_vaga'].iloc[0]), len(df['emb_vaga'].iloc[0]))\n",
    "print(\"Sample emb_cv type and length:\", type(df['emb_cv'].iloc[0]), len(df['emb_cv'].iloc[0]))\n",
    "print(\"Any null embeddings:\", df[['emb_vaga', 'emb_cv']].isnull().sum())"
   ]
  },
  {
   "cell_type": "code",
   "execution_count": 6,
   "id": "42d4509d",
   "metadata": {},
   "outputs": [
    {
     "name": "stderr",
     "output_type": "stream",
     "text": [
      "\u001b[32m2025-06-09 20:35:53.191\u001b[0m | \u001b[1mINFO    \u001b[0m | \u001b[36mapp.stages.data_split_stage\u001b[0m:\u001b[36msplit_dataset_by_vaga\u001b[0m:\u001b[36m7\u001b[0m - \u001b[1m[Split] Iniciando divisão do dataset por vaga...\u001b[0m\n",
      "\u001b[32m2025-06-09 20:35:53.238\u001b[0m | \u001b[32m\u001b[1mSUCCESS \u001b[0m | \u001b[36mapp.stages.data_split_stage\u001b[0m:\u001b[36msplit_dataset_by_vaga\u001b[0m:\u001b[36m22\u001b[0m - \u001b[32m\u001b[1m[Split] Feito! Tamanhos: train=36412, val=4386, test=4273\u001b[0m\n"
     ]
    },
    {
     "name": "stdout",
     "output_type": "stream",
     "text": [
      "Train columns: ['codigo_vaga', 'titulo_vaga', 'cliente', 'vaga_sap', 'nivel_profissional_vaga', 'nivel_ingles_vaga', 'vaga_areas_atuacao', 'principais_atividades', 'competencias', 'prospect_codigo_vaga', 'prospect_codigo_candidato', 'nome_candidato', 'situacao_candidato', 'data_candidatura', 'ultima_atualizacao', 'comentario', 'recrutador', 'applicants_codigo_candidato', 'nome_candidato_1', 'email', 'candidato_area_atuacao', 'nivel_profissional', 'nivel_academico', 'nivel_ingles', 'conhecimentos_tecnicos', 'cv', 'texto_vaga', 'texto_cv', 'emb_vaga', 'emb_cv', 'target_rank']\n",
      "Validation columns: ['codigo_vaga', 'titulo_vaga', 'cliente', 'vaga_sap', 'nivel_profissional_vaga', 'nivel_ingles_vaga', 'vaga_areas_atuacao', 'principais_atividades', 'competencias', 'prospect_codigo_vaga', 'prospect_codigo_candidato', 'nome_candidato', 'situacao_candidato', 'data_candidatura', 'ultima_atualizacao', 'comentario', 'recrutador', 'applicants_codigo_candidato', 'nome_candidato_1', 'email', 'candidato_area_atuacao', 'nivel_profissional', 'nivel_academico', 'nivel_ingles', 'conhecimentos_tecnicos', 'cv', 'texto_vaga', 'texto_cv', 'emb_vaga', 'emb_cv', 'target_rank']\n",
      "Test columns: ['codigo_vaga', 'titulo_vaga', 'cliente', 'vaga_sap', 'nivel_profissional_vaga', 'nivel_ingles_vaga', 'vaga_areas_atuacao', 'principais_atividades', 'competencias', 'prospect_codigo_vaga', 'prospect_codigo_candidato', 'nome_candidato', 'situacao_candidato', 'data_candidatura', 'ultima_atualizacao', 'comentario', 'recrutador', 'applicants_codigo_candidato', 'nome_candidato_1', 'email', 'candidato_area_atuacao', 'nivel_profissional', 'nivel_academico', 'nivel_ingles', 'conhecimentos_tecnicos', 'cv', 'texto_vaga', 'texto_cv', 'emb_vaga', 'emb_cv', 'target_rank']\n"
     ]
    }
   ],
   "source": [
    "from app.stages.data_split_stage import split_dataset_by_vaga\n",
    "\n",
    "df_train, df_val, df_test = split_dataset_by_vaga(df)\n",
    "print(\"Train columns:\", df_train.columns.tolist())\n",
    "print(\"Validation columns:\", df_val.columns.tolist())\n",
    "print(\"Test columns:\", df_test.columns.tolist())"
   ]
  },
  {
   "cell_type": "code",
   "execution_count": 9,
   "id": "0d0c843a",
   "metadata": {},
   "outputs": [
    {
     "name": "stdout",
     "output_type": "stream",
     "text": [
      "Columns after explode_embeddings: ['codigo_vaga', 'titulo_vaga', 'cliente', 'vaga_sap', 'nivel_profissional_vaga', 'nivel_ingles_vaga', 'vaga_areas_atuacao', 'principais_atividades', 'competencias', 'prospect_codigo_vaga', 'prospect_codigo_candidato', 'nome_candidato', 'situacao_candidato', 'data_candidatura', 'ultima_atualizacao', 'comentario', 'recrutador', 'applicants_codigo_candidato', 'nome_candidato_1', 'email', 'candidato_area_atuacao', 'nivel_profissional', 'nivel_academico', 'nivel_ingles', 'conhecimentos_tecnicos', 'cv', 'texto_vaga', 'texto_cv', 'emb_vaga_0', 'emb_vaga_1', 'emb_vaga_2', 'emb_vaga_3', 'emb_vaga_4', 'emb_vaga_5', 'emb_vaga_6', 'emb_vaga_7', 'emb_vaga_8', 'emb_vaga_9', 'emb_vaga_10', 'emb_vaga_11', 'emb_vaga_12', 'emb_vaga_13', 'emb_vaga_14', 'emb_vaga_15', 'emb_vaga_16', 'emb_vaga_17', 'emb_vaga_18', 'emb_vaga_19', 'emb_vaga_20', 'emb_vaga_21', 'emb_vaga_22', 'emb_vaga_23', 'emb_vaga_24', 'emb_vaga_25', 'emb_vaga_26', 'emb_vaga_27', 'emb_vaga_28', 'emb_vaga_29', 'emb_vaga_30', 'emb_vaga_31', 'emb_vaga_32', 'emb_vaga_33', 'emb_vaga_34', 'emb_vaga_35', 'emb_vaga_36', 'emb_vaga_37', 'emb_vaga_38', 'emb_vaga_39', 'emb_vaga_40', 'emb_vaga_41', 'emb_vaga_42', 'emb_vaga_43', 'emb_vaga_44', 'emb_vaga_45', 'emb_vaga_46', 'emb_vaga_47', 'emb_vaga_48', 'emb_vaga_49', 'emb_vaga_50', 'emb_vaga_51', 'emb_vaga_52', 'emb_vaga_53', 'emb_vaga_54', 'emb_vaga_55', 'emb_vaga_56', 'emb_vaga_57', 'emb_vaga_58', 'emb_vaga_59', 'emb_vaga_60', 'emb_vaga_61', 'emb_vaga_62', 'emb_vaga_63', 'emb_vaga_64', 'emb_vaga_65', 'emb_vaga_66', 'emb_vaga_67', 'emb_vaga_68', 'emb_vaga_69', 'emb_vaga_70', 'emb_vaga_71', 'emb_vaga_72', 'emb_vaga_73', 'emb_vaga_74', 'emb_vaga_75', 'emb_vaga_76', 'emb_vaga_77', 'emb_vaga_78', 'emb_vaga_79', 'emb_vaga_80', 'emb_vaga_81', 'emb_vaga_82', 'emb_vaga_83', 'emb_vaga_84', 'emb_vaga_85', 'emb_vaga_86', 'emb_vaga_87', 'emb_vaga_88', 'emb_vaga_89', 'emb_vaga_90', 'emb_vaga_91', 'emb_vaga_92', 'emb_vaga_93', 'emb_vaga_94', 'emb_vaga_95', 'emb_vaga_96', 'emb_vaga_97', 'emb_vaga_98', 'emb_vaga_99', 'emb_vaga_100', 'emb_vaga_101', 'emb_vaga_102', 'emb_vaga_103', 'emb_vaga_104', 'emb_vaga_105', 'emb_vaga_106', 'emb_vaga_107', 'emb_vaga_108', 'emb_vaga_109', 'emb_vaga_110', 'emb_vaga_111', 'emb_vaga_112', 'emb_vaga_113', 'emb_vaga_114', 'emb_vaga_115', 'emb_vaga_116', 'emb_vaga_117', 'emb_vaga_118', 'emb_vaga_119', 'emb_vaga_120', 'emb_vaga_121', 'emb_vaga_122', 'emb_vaga_123', 'emb_vaga_124', 'emb_vaga_125', 'emb_vaga_126', 'emb_vaga_127', 'emb_vaga_128', 'emb_vaga_129', 'emb_vaga_130', 'emb_vaga_131', 'emb_vaga_132', 'emb_vaga_133', 'emb_vaga_134', 'emb_vaga_135', 'emb_vaga_136', 'emb_vaga_137', 'emb_vaga_138', 'emb_vaga_139', 'emb_vaga_140', 'emb_vaga_141', 'emb_vaga_142', 'emb_vaga_143', 'emb_vaga_144', 'emb_vaga_145', 'emb_vaga_146', 'emb_vaga_147', 'emb_vaga_148', 'emb_vaga_149', 'emb_vaga_150', 'emb_vaga_151', 'emb_vaga_152', 'emb_vaga_153', 'emb_vaga_154', 'emb_vaga_155', 'emb_vaga_156', 'emb_vaga_157', 'emb_vaga_158', 'emb_vaga_159', 'emb_vaga_160', 'emb_vaga_161', 'emb_vaga_162', 'emb_vaga_163', 'emb_vaga_164', 'emb_vaga_165', 'emb_vaga_166', 'emb_vaga_167', 'emb_vaga_168', 'emb_vaga_169', 'emb_vaga_170', 'emb_vaga_171', 'emb_vaga_172', 'emb_vaga_173', 'emb_vaga_174', 'emb_vaga_175', 'emb_vaga_176', 'emb_vaga_177', 'emb_vaga_178', 'emb_vaga_179', 'emb_vaga_180', 'emb_vaga_181', 'emb_vaga_182', 'emb_vaga_183', 'emb_vaga_184', 'emb_vaga_185', 'emb_vaga_186', 'emb_vaga_187', 'emb_vaga_188', 'emb_vaga_189', 'emb_vaga_190', 'emb_vaga_191', 'emb_vaga_192', 'emb_vaga_193', 'emb_vaga_194', 'emb_vaga_195', 'emb_vaga_196', 'emb_vaga_197', 'emb_vaga_198', 'emb_vaga_199', 'emb_vaga_200', 'emb_vaga_201', 'emb_vaga_202', 'emb_vaga_203', 'emb_vaga_204', 'emb_vaga_205', 'emb_vaga_206', 'emb_vaga_207', 'emb_vaga_208', 'emb_vaga_209', 'emb_vaga_210', 'emb_vaga_211', 'emb_vaga_212', 'emb_vaga_213', 'emb_vaga_214', 'emb_vaga_215', 'emb_vaga_216', 'emb_vaga_217', 'emb_vaga_218', 'emb_vaga_219', 'emb_vaga_220', 'emb_vaga_221', 'emb_vaga_222', 'emb_vaga_223', 'emb_vaga_224', 'emb_vaga_225', 'emb_vaga_226', 'emb_vaga_227', 'emb_vaga_228', 'emb_vaga_229', 'emb_vaga_230', 'emb_vaga_231', 'emb_vaga_232', 'emb_vaga_233', 'emb_vaga_234', 'emb_vaga_235', 'emb_vaga_236', 'emb_vaga_237', 'emb_vaga_238', 'emb_vaga_239', 'emb_vaga_240', 'emb_vaga_241', 'emb_vaga_242', 'emb_vaga_243', 'emb_vaga_244', 'emb_vaga_245', 'emb_vaga_246', 'emb_vaga_247', 'emb_vaga_248', 'emb_vaga_249', 'emb_vaga_250', 'emb_vaga_251', 'emb_vaga_252', 'emb_vaga_253', 'emb_vaga_254', 'emb_vaga_255', 'emb_vaga_256', 'emb_vaga_257', 'emb_vaga_258', 'emb_vaga_259', 'emb_vaga_260', 'emb_vaga_261', 'emb_vaga_262', 'emb_vaga_263', 'emb_vaga_264', 'emb_vaga_265', 'emb_vaga_266', 'emb_vaga_267', 'emb_vaga_268', 'emb_vaga_269', 'emb_vaga_270', 'emb_vaga_271', 'emb_vaga_272', 'emb_vaga_273', 'emb_vaga_274', 'emb_vaga_275', 'emb_vaga_276', 'emb_vaga_277', 'emb_vaga_278', 'emb_vaga_279', 'emb_vaga_280', 'emb_vaga_281', 'emb_vaga_282', 'emb_vaga_283', 'emb_vaga_284', 'emb_vaga_285', 'emb_vaga_286', 'emb_vaga_287', 'emb_vaga_288', 'emb_vaga_289', 'emb_vaga_290', 'emb_vaga_291', 'emb_vaga_292', 'emb_vaga_293', 'emb_vaga_294', 'emb_vaga_295', 'emb_vaga_296', 'emb_vaga_297', 'emb_vaga_298', 'emb_vaga_299', 'emb_vaga_300', 'emb_vaga_301', 'emb_vaga_302', 'emb_vaga_303', 'emb_vaga_304', 'emb_vaga_305', 'emb_vaga_306', 'emb_vaga_307', 'emb_vaga_308', 'emb_vaga_309', 'emb_vaga_310', 'emb_vaga_311', 'emb_vaga_312', 'emb_vaga_313', 'emb_vaga_314', 'emb_vaga_315', 'emb_vaga_316', 'emb_vaga_317', 'emb_vaga_318', 'emb_vaga_319', 'emb_vaga_320', 'emb_vaga_321', 'emb_vaga_322', 'emb_vaga_323', 'emb_vaga_324', 'emb_vaga_325', 'emb_vaga_326', 'emb_vaga_327', 'emb_vaga_328', 'emb_vaga_329', 'emb_vaga_330', 'emb_vaga_331', 'emb_vaga_332', 'emb_vaga_333', 'emb_vaga_334', 'emb_vaga_335', 'emb_vaga_336', 'emb_vaga_337', 'emb_vaga_338', 'emb_vaga_339', 'emb_vaga_340', 'emb_vaga_341', 'emb_vaga_342', 'emb_vaga_343', 'emb_vaga_344', 'emb_vaga_345', 'emb_vaga_346', 'emb_vaga_347', 'emb_vaga_348', 'emb_vaga_349', 'emb_vaga_350', 'emb_vaga_351', 'emb_vaga_352', 'emb_vaga_353', 'emb_vaga_354', 'emb_vaga_355', 'emb_vaga_356', 'emb_vaga_357', 'emb_vaga_358', 'emb_vaga_359', 'emb_vaga_360', 'emb_vaga_361', 'emb_vaga_362', 'emb_vaga_363', 'emb_vaga_364', 'emb_vaga_365', 'emb_vaga_366', 'emb_vaga_367', 'emb_vaga_368', 'emb_vaga_369', 'emb_vaga_370', 'emb_vaga_371', 'emb_vaga_372', 'emb_vaga_373', 'emb_vaga_374', 'emb_vaga_375', 'emb_vaga_376', 'emb_vaga_377', 'emb_vaga_378', 'emb_vaga_379', 'emb_vaga_380', 'emb_vaga_381', 'emb_vaga_382', 'emb_vaga_383', 'emb_cv_0', 'emb_cv_1', 'emb_cv_2', 'emb_cv_3', 'emb_cv_4', 'emb_cv_5', 'emb_cv_6', 'emb_cv_7', 'emb_cv_8', 'emb_cv_9', 'emb_cv_10', 'emb_cv_11', 'emb_cv_12', 'emb_cv_13', 'emb_cv_14', 'emb_cv_15', 'emb_cv_16', 'emb_cv_17', 'emb_cv_18', 'emb_cv_19', 'emb_cv_20', 'emb_cv_21', 'emb_cv_22', 'emb_cv_23', 'emb_cv_24', 'emb_cv_25', 'emb_cv_26', 'emb_cv_27', 'emb_cv_28', 'emb_cv_29', 'emb_cv_30', 'emb_cv_31', 'emb_cv_32', 'emb_cv_33', 'emb_cv_34', 'emb_cv_35', 'emb_cv_36', 'emb_cv_37', 'emb_cv_38', 'emb_cv_39', 'emb_cv_40', 'emb_cv_41', 'emb_cv_42', 'emb_cv_43', 'emb_cv_44', 'emb_cv_45', 'emb_cv_46', 'emb_cv_47', 'emb_cv_48', 'emb_cv_49', 'emb_cv_50', 'emb_cv_51', 'emb_cv_52', 'emb_cv_53', 'emb_cv_54', 'emb_cv_55', 'emb_cv_56', 'emb_cv_57', 'emb_cv_58', 'emb_cv_59', 'emb_cv_60', 'emb_cv_61', 'emb_cv_62', 'emb_cv_63', 'emb_cv_64', 'emb_cv_65', 'emb_cv_66', 'emb_cv_67', 'emb_cv_68', 'emb_cv_69', 'emb_cv_70', 'emb_cv_71', 'emb_cv_72', 'emb_cv_73', 'emb_cv_74', 'emb_cv_75', 'emb_cv_76', 'emb_cv_77', 'emb_cv_78', 'emb_cv_79', 'emb_cv_80', 'emb_cv_81', 'emb_cv_82', 'emb_cv_83', 'emb_cv_84', 'emb_cv_85', 'emb_cv_86', 'emb_cv_87', 'emb_cv_88', 'emb_cv_89', 'emb_cv_90', 'emb_cv_91', 'emb_cv_92', 'emb_cv_93', 'emb_cv_94', 'emb_cv_95', 'emb_cv_96', 'emb_cv_97', 'emb_cv_98', 'emb_cv_99', 'emb_cv_100', 'emb_cv_101', 'emb_cv_102', 'emb_cv_103', 'emb_cv_104', 'emb_cv_105', 'emb_cv_106', 'emb_cv_107', 'emb_cv_108', 'emb_cv_109', 'emb_cv_110', 'emb_cv_111', 'emb_cv_112', 'emb_cv_113', 'emb_cv_114', 'emb_cv_115', 'emb_cv_116', 'emb_cv_117', 'emb_cv_118', 'emb_cv_119', 'emb_cv_120', 'emb_cv_121', 'emb_cv_122', 'emb_cv_123', 'emb_cv_124', 'emb_cv_125', 'emb_cv_126', 'emb_cv_127', 'emb_cv_128', 'emb_cv_129', 'emb_cv_130', 'emb_cv_131', 'emb_cv_132', 'emb_cv_133', 'emb_cv_134', 'emb_cv_135', 'emb_cv_136', 'emb_cv_137', 'emb_cv_138', 'emb_cv_139', 'emb_cv_140', 'emb_cv_141', 'emb_cv_142', 'emb_cv_143', 'emb_cv_144', 'emb_cv_145', 'emb_cv_146', 'emb_cv_147', 'emb_cv_148', 'emb_cv_149', 'emb_cv_150', 'emb_cv_151', 'emb_cv_152', 'emb_cv_153', 'emb_cv_154', 'emb_cv_155', 'emb_cv_156', 'emb_cv_157', 'emb_cv_158', 'emb_cv_159', 'emb_cv_160', 'emb_cv_161', 'emb_cv_162', 'emb_cv_163', 'emb_cv_164', 'emb_cv_165', 'emb_cv_166', 'emb_cv_167', 'emb_cv_168', 'emb_cv_169', 'emb_cv_170', 'emb_cv_171', 'emb_cv_172', 'emb_cv_173', 'emb_cv_174', 'emb_cv_175', 'emb_cv_176', 'emb_cv_177', 'emb_cv_178', 'emb_cv_179', 'emb_cv_180', 'emb_cv_181', 'emb_cv_182', 'emb_cv_183', 'emb_cv_184', 'emb_cv_185', 'emb_cv_186', 'emb_cv_187', 'emb_cv_188', 'emb_cv_189', 'emb_cv_190', 'emb_cv_191', 'emb_cv_192', 'emb_cv_193', 'emb_cv_194', 'emb_cv_195', 'emb_cv_196', 'emb_cv_197', 'emb_cv_198', 'emb_cv_199', 'emb_cv_200', 'emb_cv_201', 'emb_cv_202', 'emb_cv_203', 'emb_cv_204', 'emb_cv_205', 'emb_cv_206', 'emb_cv_207', 'emb_cv_208', 'emb_cv_209', 'emb_cv_210', 'emb_cv_211', 'emb_cv_212', 'emb_cv_213', 'emb_cv_214', 'emb_cv_215', 'emb_cv_216', 'emb_cv_217', 'emb_cv_218', 'emb_cv_219', 'emb_cv_220', 'emb_cv_221', 'emb_cv_222', 'emb_cv_223', 'emb_cv_224', 'emb_cv_225', 'emb_cv_226', 'emb_cv_227', 'emb_cv_228', 'emb_cv_229', 'emb_cv_230', 'emb_cv_231', 'emb_cv_232', 'emb_cv_233', 'emb_cv_234', 'emb_cv_235', 'emb_cv_236', 'emb_cv_237', 'emb_cv_238', 'emb_cv_239', 'emb_cv_240', 'emb_cv_241', 'emb_cv_242', 'emb_cv_243', 'emb_cv_244', 'emb_cv_245', 'emb_cv_246', 'emb_cv_247', 'emb_cv_248', 'emb_cv_249', 'emb_cv_250', 'emb_cv_251', 'emb_cv_252', 'emb_cv_253', 'emb_cv_254', 'emb_cv_255', 'emb_cv_256', 'emb_cv_257', 'emb_cv_258', 'emb_cv_259', 'emb_cv_260', 'emb_cv_261', 'emb_cv_262', 'emb_cv_263', 'emb_cv_264', 'emb_cv_265', 'emb_cv_266', 'emb_cv_267', 'emb_cv_268', 'emb_cv_269', 'emb_cv_270', 'emb_cv_271', 'emb_cv_272', 'emb_cv_273', 'emb_cv_274', 'emb_cv_275', 'emb_cv_276', 'emb_cv_277', 'emb_cv_278', 'emb_cv_279', 'emb_cv_280', 'emb_cv_281', 'emb_cv_282', 'emb_cv_283', 'emb_cv_284', 'emb_cv_285', 'emb_cv_286', 'emb_cv_287', 'emb_cv_288', 'emb_cv_289', 'emb_cv_290', 'emb_cv_291', 'emb_cv_292', 'emb_cv_293', 'emb_cv_294', 'emb_cv_295', 'emb_cv_296', 'emb_cv_297', 'emb_cv_298', 'emb_cv_299', 'emb_cv_300', 'emb_cv_301', 'emb_cv_302', 'emb_cv_303', 'emb_cv_304', 'emb_cv_305', 'emb_cv_306', 'emb_cv_307', 'emb_cv_308', 'emb_cv_309', 'emb_cv_310', 'emb_cv_311', 'emb_cv_312', 'emb_cv_313', 'emb_cv_314', 'emb_cv_315', 'emb_cv_316', 'emb_cv_317', 'emb_cv_318', 'emb_cv_319', 'emb_cv_320', 'emb_cv_321', 'emb_cv_322', 'emb_cv_323', 'emb_cv_324', 'emb_cv_325', 'emb_cv_326', 'emb_cv_327', 'emb_cv_328', 'emb_cv_329', 'emb_cv_330', 'emb_cv_331', 'emb_cv_332', 'emb_cv_333', 'emb_cv_334', 'emb_cv_335', 'emb_cv_336', 'emb_cv_337', 'emb_cv_338', 'emb_cv_339', 'emb_cv_340', 'emb_cv_341', 'emb_cv_342', 'emb_cv_343', 'emb_cv_344', 'emb_cv_345', 'emb_cv_346', 'emb_cv_347', 'emb_cv_348', 'emb_cv_349', 'emb_cv_350', 'emb_cv_351', 'emb_cv_352', 'emb_cv_353', 'emb_cv_354', 'emb_cv_355', 'emb_cv_356', 'emb_cv_357', 'emb_cv_358', 'emb_cv_359', 'emb_cv_360', 'emb_cv_361', 'emb_cv_362', 'emb_cv_363', 'emb_cv_364', 'emb_cv_365', 'emb_cv_366', 'emb_cv_367', 'emb_cv_368', 'emb_cv_369', 'emb_cv_370', 'emb_cv_371', 'emb_cv_372', 'emb_cv_373', 'emb_cv_374', 'emb_cv_375', 'emb_cv_376', 'emb_cv_377', 'emb_cv_378', 'emb_cv_379', 'emb_cv_380', 'emb_cv_381', 'emb_cv_382', 'emb_cv_383']\n",
      "Shape after explode_embeddings: (45071, 796)\n"
     ]
    }
   ],
   "source": [
    "from app.utils.embedding_utils import explode_embeddings\n",
    "df_exploded = explode_embeddings(df)\n",
    "print(\"Columns after explode_embeddings:\", df_exploded.columns.tolist())\n",
    "print(\"Shape after explode_embeddings:\", df_exploded.shape)"
   ]
  },
  {
   "cell_type": "code",
   "execution_count": 7,
   "id": "22ba30f0",
   "metadata": {},
   "outputs": [
    {
     "name": "stderr",
     "output_type": "stream",
     "text": [
      "\u001b[32m2025-06-09 20:35:56.530\u001b[0m | \u001b[1mINFO    \u001b[0m | \u001b[36mapp.stages.data_split_stage\u001b[0m:\u001b[36msplit_dataset_by_vaga\u001b[0m:\u001b[36m7\u001b[0m - \u001b[1m[Split] Iniciando divisão do dataset por vaga...\u001b[0m\n",
      "\u001b[32m2025-06-09 20:35:56.554\u001b[0m | \u001b[32m\u001b[1mSUCCESS \u001b[0m | \u001b[36mapp.stages.data_split_stage\u001b[0m:\u001b[36msplit_dataset_by_vaga\u001b[0m:\u001b[36m22\u001b[0m - \u001b[32m\u001b[1m[Split] Feito! Tamanhos: train=36412, val=4386, test=4273\u001b[0m\n",
      "\u001b[32m2025-06-09 20:35:56.586\u001b[0m | \u001b[1mINFO    \u001b[0m | \u001b[36mapp.stages.feature_engineering_stage\u001b[0m:\u001b[36mapply_feature_pipeline\u001b[0m:\u001b[36m149\u001b[0m - \u001b[1m[Features] Aplicando transformações de encoding...\u001b[0m\n",
      "\u001b[32m2025-06-09 20:35:56.587\u001b[0m | \u001b[1mINFO    \u001b[0m | \u001b[36mapp.stages.feature_engineering_stage\u001b[0m:\u001b[36mapply_feature_pipeline\u001b[0m:\u001b[36m153\u001b[0m - \u001b[1m[Features] Expandindo embeddings...\u001b[0m\n",
      "\u001b[32m2025-06-09 20:36:02.292\u001b[0m | \u001b[32m\u001b[1mSUCCESS \u001b[0m | \u001b[36mapp.stages.feature_engineering_stage\u001b[0m:\u001b[36mapply_feature_pipeline\u001b[0m:\u001b[36m157\u001b[0m - \u001b[32m\u001b[1m[Features] Embeddings expandidos com sucesso.\u001b[0m\n",
      "\u001b[32m2025-06-09 20:36:02.623\u001b[0m | \u001b[1mINFO    \u001b[0m | \u001b[36mapp.stages.feature_engineering_stage\u001b[0m:\u001b[36mapply_feature_pipeline\u001b[0m:\u001b[36m177\u001b[0m - \u001b[1m[Features] Limpando colunas de área de atuação...\u001b[0m\n",
      "\u001b[32m2025-06-09 20:36:02.799\u001b[0m | \u001b[32m\u001b[1mSUCCESS \u001b[0m | \u001b[36mapp.stages.feature_engineering_stage\u001b[0m:\u001b[36mapply_feature_pipeline\u001b[0m:\u001b[36m194\u001b[0m - \u001b[32m\u001b[1m[Features] Colunas de área de atuação limpas com sucesso.\u001b[0m\n",
      "\u001b[32m2025-06-09 20:36:02.800\u001b[0m | \u001b[1mINFO    \u001b[0m | \u001b[36mapp.stages.feature_engineering_stage\u001b[0m:\u001b[36mapply_feature_pipeline\u001b[0m:\u001b[36m197\u001b[0m - \u001b[1m[Features] Calculando similaridade entre áreas de atuação...\u001b[0m\n",
      "\u001b[32m2025-06-09 20:36:04.094\u001b[0m | \u001b[32m\u001b[1mSUCCESS \u001b[0m | \u001b[36mapp.stages.feature_engineering_stage\u001b[0m:\u001b[36mapply_feature_pipeline\u001b[0m:\u001b[36m201\u001b[0m - \u001b[32m\u001b[1m[Features] Similaridade entre áreas calculada com sucesso.\u001b[0m\n",
      "\u001b[32m2025-06-09 20:36:04.096\u001b[0m | \u001b[1mINFO    \u001b[0m | \u001b[36mapp.stages.feature_engineering_stage\u001b[0m:\u001b[36mapply_feature_pipeline\u001b[0m:\u001b[36m213\u001b[0m - \u001b[1m[Features] Ajustando pipeline de transformação...\u001b[0m\n",
      "\u001b[32m2025-06-09 20:36:04.203\u001b[0m | \u001b[1mINFO    \u001b[0m | \u001b[36mapp.stages.feature_engineering_stage\u001b[0m:\u001b[36mapply_feature_pipeline\u001b[0m:\u001b[36m219\u001b[0m - \u001b[1m[Features] Extraindo nomes das features...\u001b[0m\n",
      "\u001b[32m2025-06-09 20:36:04.203\u001b[0m | \u001b[1mINFO    \u001b[0m | \u001b[36mapp.stages.feature_engineering_stage\u001b[0m:\u001b[36mget_feature_names_from_pipeline\u001b[0m:\u001b[36m87\u001b[0m - \u001b[1m[Features] Extraídos 99 nomes de features do pipeline\u001b[0m\n",
      "\u001b[32m2025-06-09 20:36:04.208\u001b[0m | \u001b[1mINFO    \u001b[0m | \u001b[36mapp.stages.feature_engineering_stage\u001b[0m:\u001b[36mapply_feature_pipeline\u001b[0m:\u001b[36m225\u001b[0m - \u001b[1m[Features] Pipeline salvo em ../data/model_input/preprocessing_pipeline.pkl\u001b[0m\n",
      "\u001b[32m2025-06-09 20:36:04.208\u001b[0m | \u001b[32m\u001b[1mSUCCESS \u001b[0m | \u001b[36mapp.stages.feature_engineering_stage\u001b[0m:\u001b[36mapply_feature_pipeline\u001b[0m:\u001b[36m227\u001b[0m - \u001b[32m\u001b[1m[Features] Pipeline de features aplicado com sucesso.\u001b[0m\n",
      "\u001b[32m2025-06-09 20:36:04.209\u001b[0m | \u001b[1mINFO    \u001b[0m | \u001b[36mapp.stages.feature_engineering_stage\u001b[0m:\u001b[36mapply_feature_pipeline\u001b[0m:\u001b[36m231\u001b[0m - \u001b[1m[Features] === RESUMO DAS FEATURES ===\u001b[0m\n",
      "\u001b[32m2025-06-09 20:36:04.209\u001b[0m | \u001b[1mINFO    \u001b[0m | \u001b[36mapp.stages.feature_engineering_stage\u001b[0m:\u001b[36mapply_feature_pipeline\u001b[0m:\u001b[36m232\u001b[0m - \u001b[1m[Features] Total de features: 99\u001b[0m\n",
      "\u001b[32m2025-06-09 20:36:04.210\u001b[0m | \u001b[1mINFO    \u001b[0m | \u001b[36mapp.stages.feature_engineering_stage\u001b[0m:\u001b[36mapply_feature_pipeline\u001b[0m:\u001b[36m233\u001b[0m - \u001b[1m[Features] Shape da matriz: (36412, 99)\u001b[0m\n",
      "\u001b[32m2025-06-09 20:36:04.210\u001b[0m | \u001b[1mINFO    \u001b[0m | \u001b[36mapp.stages.feature_engineering_stage\u001b[0m:\u001b[36mapply_feature_pipeline\u001b[0m:\u001b[36m240\u001b[0m - \u001b[1m[Features] Features Ordinais (5): ['nivel_profissional', 'nivel_profissional_vaga', 'nivel_academico', 'nivel_ingles', 'nivel_ingles_vaga']\u001b[0m\n",
      "\u001b[32m2025-06-09 20:36:04.210\u001b[0m | \u001b[1mINFO    \u001b[0m | \u001b[36mapp.stages.feature_engineering_stage\u001b[0m:\u001b[36mapply_feature_pipeline\u001b[0m:\u001b[36m241\u001b[0m - \u001b[1m[Features] Features Numéricas (2): ['vaga_sap', 'area_similarity']\u001b[0m\n",
      "\u001b[32m2025-06-09 20:36:04.211\u001b[0m | \u001b[1mINFO    \u001b[0m | \u001b[36mapp.stages.feature_engineering_stage\u001b[0m:\u001b[36mapply_feature_pipeline\u001b[0m:\u001b[36m242\u001b[0m - \u001b[1m[Features] Features Categóricas: 92\u001b[0m\n",
      "\u001b[32m2025-06-09 20:36:04.211\u001b[0m | \u001b[1mINFO    \u001b[0m | \u001b[36mapp.stages.feature_engineering_stage\u001b[0m:\u001b[36mapply_feature_pipeline\u001b[0m:\u001b[36m249\u001b[0m - \u001b[1m[Features] Primeiras 10 categóricas: ['cliente_Barnes-Woods', 'cliente_Bell Group', 'cliente_Bishop-Reed', 'cliente_Bowers, Oconnor and Williams', 'cliente_Callahan-Hall', 'cliente_Chapman, Brown and Hart', 'cliente_Craig-Webb', 'cliente_Dougherty-Gilbert', 'cliente_Glover, Warren and Norris', 'cliente_Gonzalez and Sons']\u001b[0m\n",
      "\u001b[32m2025-06-09 20:36:04.211\u001b[0m | \u001b[1mINFO    \u001b[0m | \u001b[36mapp.stages.feature_engineering_stage\u001b[0m:\u001b[36mapply_feature_pipeline\u001b[0m:\u001b[36m250\u001b[0m - \u001b[1m[Features] ... e mais 82 features categóricas\u001b[0m\n",
      "\u001b[32m2025-06-09 20:36:04.211\u001b[0m | \u001b[1mINFO    \u001b[0m | \u001b[36mapp.stages.feature_engineering_stage\u001b[0m:\u001b[36mapply_feature_pipeline\u001b[0m:\u001b[36m252\u001b[0m - \u001b[1m[Features] =====================================\u001b[0m\n",
      "\u001b[32m2025-06-09 20:36:04.212\u001b[0m | \u001b[1mINFO    \u001b[0m | \u001b[36mapp.stages.feature_engineering_stage\u001b[0m:\u001b[36mapply_feature_pipeline\u001b[0m:\u001b[36m254\u001b[0m - \u001b[1m[Features] Salvando input do modelo...\u001b[0m\n",
      "\u001b[32m2025-06-09 20:36:04.251\u001b[0m | \u001b[1mINFO    \u001b[0m | \u001b[36mapp.stages.feature_engineering_stage\u001b[0m:\u001b[36msave_model_input\u001b[0m:\u001b[36m143\u001b[0m - \u001b[1m[Features] Salvos 99 nomes de features em data/model_input\u001b[0m\n",
      "\u001b[32m2025-06-09 20:36:04.252\u001b[0m | \u001b[32m\u001b[1mSUCCESS \u001b[0m | \u001b[36mapp.stages.feature_engineering_stage\u001b[0m:\u001b[36mapply_feature_pipeline\u001b[0m:\u001b[36m260\u001b[0m - \u001b[32m\u001b[1m[Features] Input do modelo salvo com sucesso.\u001b[0m\n",
      "\u001b[32m2025-06-09 20:36:04.252\u001b[0m | \u001b[1mINFO    \u001b[0m | \u001b[36mapp.stages.feature_engineering_stage\u001b[0m:\u001b[36mapply_feature_pipeline\u001b[0m:\u001b[36m261\u001b[0m - \u001b[1m[Features] Pipeline de features concluído.\u001b[0m\n"
     ]
    }
   ],
   "source": [
    "from app.stages.feature_engineering_stage import apply_feature_pipeline  # Add this import\n",
    "df = pd.read_parquet(\"../data/processed/rank_ready.parquet\")\n",
    "df_train, df_val, df_test = split_dataset_by_vaga(df)\n",
    "X_train, y_train, group_train, X_val, y_val, group_val, X_test, y_test, group_test, pipe = apply_feature_pipeline(df_train, df_val, df_test)"
   ]
  },
  {
   "cell_type": "code",
   "execution_count": 9,
   "id": "5ebcb8d4",
   "metadata": {},
   "outputs": [
    {
     "name": "stdout",
     "output_type": "stream",
     "text": [
      "Feature names: ['nivel_profissional', 'nivel_profissional_vaga', 'nivel_academico', 'nivel_ingles', 'nivel_ingles_vaga', 'cliente_Barnes-Woods', 'cliente_Bell Group', 'cliente_Bishop-Reed', 'cliente_Bowers, Oconnor and Williams', 'cliente_Callahan-Hall', 'cliente_Chapman, Brown and Hart', 'cliente_Craig-Webb', 'cliente_Dougherty-Gilbert', 'cliente_Glover, Warren and Norris', 'cliente_Gonzalez and Sons', 'cliente_Griffith-Webb', 'cliente_Jenkins-Walker', 'cliente_Jimenez PLC', 'cliente_Johnson-Aguirre', 'cliente_Johnson-Pratt', 'cliente_Jones-Hodges', 'cliente_King-Russell', 'cliente_Luna-Carpenter', 'cliente_Mann and Sons', 'cliente_Miller, Tran and Chang', 'cliente_Miller-Curry', 'cliente_Morris, Moran and Dodson', 'cliente_Morrison Ltd', 'cliente_Nelson-Page', 'cliente_Porter-Wilson', 'cliente_Wade, Bernard and Bailey', 'cliente_Walters Group', 'cliente_Williams, Clark and Lynn', 'cliente_infrequent_sklearn', 'recrutador_Agatha Montenegro', 'recrutador_Ana Camargo', 'recrutador_Ana Lívia Moreira', 'recrutador_Ana Sophia Oliveira', 'recrutador_Aylla Leão', 'recrutador_Carlos Eduardo Ribeiro', 'recrutador_Carolina Araújo', 'recrutador_Caroline Machado', 'recrutador_Clara Rios', 'recrutador_Dr. Luan Sá', 'recrutador_Dra. Luara Siqueira', 'recrutador_Elisa Barbosa', 'recrutador_Elisa Nunes', 'recrutador_Eloah Leão', 'recrutador_Emanuella Campos', 'recrutador_Emanuelly Vieira', 'recrutador_Helena Barros', 'recrutador_Juliana Cassiano', 'recrutador_Lara Duarte', 'recrutador_Laura Pacheco', 'recrutador_Liz Freitas', 'recrutador_Luara Câmara', 'recrutador_Luna Correia', 'recrutador_Lunna Fonseca', 'recrutador_Manuella Carvalho', 'recrutador_Maria Clara Pires', 'recrutador_Maria Vitória Machado', 'recrutador_Mariah Vasconcelos', 'recrutador_Mariane Moreira', 'recrutador_Melina Montenegro', 'recrutador_Natália Cavalcanti', 'recrutador_Paulo Peixoto', 'recrutador_Raquel Vieira', 'recrutador_Sra. Giovanna Sousa', 'recrutador_Sra. Joana Sousa', 'recrutador_Sra. Manuella Oliveira', 'recrutador_Srta. Bella Ferreira', 'recrutador_Srta. Maria Carvalho', 'recrutador_Stella Vieira', 'recrutador_Yasmin da Rosa', 'recrutador_Ágatha da Paz', 'recrutador_infrequent_sklearn', 'vaga_areas_atuacao_clean_Administrativa', 'vaga_areas_atuacao_clean_Comercial', 'vaga_areas_atuacao_clean_Financeira/Controladoria', 'vaga_areas_atuacao_clean_Gestão_e_Alocação_de_Recursos_de_TI', 'vaga_areas_atuacao_clean_Gestão_e_Alocação_de_Recursos_de_TI_TI_Desenvolvimento/Programação', 'vaga_areas_atuacao_clean_Gestão_e_Alocação_de_Recursos_de_TI_TI_Infraestrutura', 'vaga_areas_atuacao_clean_Gestão_e_Alocação_de_Recursos_de_TI_TI_SAP', 'vaga_areas_atuacao_clean_Recursos_Humanos', 'vaga_areas_atuacao_clean_TI_Arquitetura', 'vaga_areas_atuacao_clean_TI_Banco_de_Dados', 'vaga_areas_atuacao_clean_TI_Desenvolvimento/Design', 'vaga_areas_atuacao_clean_TI_Desenvolvimento/Mobile', 'vaga_areas_atuacao_clean_TI_Desenvolvimento/Programação', 'vaga_areas_atuacao_clean_TI_Infraestrutura', 'vaga_areas_atuacao_clean_TI_Processos_e_Negócios', 'vaga_areas_atuacao_clean_TI_Projetos', 'vaga_areas_atuacao_clean_TI_Qualidade/Testes', 'vaga_areas_atuacao_clean_TI_SAP', 'vaga_areas_atuacao_clean_TI_Sistemas_e_Ferramentas', 'vaga_areas_atuacao_clean_TI_Suporte', 'vaga_areas_atuacao_clean_infrequent_sklearn', 'vaga_sap', 'area_similarity']\n",
      "X_train shape: (36412, 99)\n"
     ]
    }
   ],
   "source": [
    "import numpy as np\n",
    "feature_names = np.load(\"../data/model_input/feature_names.npy\", allow_pickle=True)\n",
    "print(\"Feature names:\", feature_names.tolist())\n",
    "print(\"X_train shape:\", X_train.shape)"
   ]
  },
  {
   "cell_type": "code",
   "execution_count": 12,
   "id": "d2428f2f",
   "metadata": {},
   "outputs": [
    {
     "name": "stdout",
     "output_type": "stream",
     "text": [
      "X_train shape: (36412, 99)\n",
      "Feature names: ['nivel_profissional', 'nivel_profissional_vaga', 'nivel_academico', 'nivel_ingles', 'nivel_ingles_vaga', 'cliente_Barnes-Woods', 'cliente_Bell Group', 'cliente_Bishop-Reed', 'cliente_Bowers, Oconnor and Williams', 'cliente_Callahan-Hall', 'cliente_Chapman, Brown and Hart', 'cliente_Craig-Webb', 'cliente_Dougherty-Gilbert', 'cliente_Glover, Warren and Norris', 'cliente_Gonzalez and Sons', 'cliente_Griffith-Webb', 'cliente_Jenkins-Walker', 'cliente_Jimenez PLC', 'cliente_Johnson-Aguirre', 'cliente_Johnson-Pratt', 'cliente_Jones-Hodges', 'cliente_King-Russell', 'cliente_Luna-Carpenter', 'cliente_Mann and Sons', 'cliente_Miller, Tran and Chang', 'cliente_Miller-Curry', 'cliente_Morris, Moran and Dodson', 'cliente_Morrison Ltd', 'cliente_Nelson-Page', 'cliente_Porter-Wilson', 'cliente_Wade, Bernard and Bailey', 'cliente_Walters Group', 'cliente_Williams, Clark and Lynn', 'cliente_infrequent_sklearn', 'recrutador_Agatha Montenegro', 'recrutador_Ana Camargo', 'recrutador_Ana Lívia Moreira', 'recrutador_Ana Sophia Oliveira', 'recrutador_Aylla Leão', 'recrutador_Carlos Eduardo Ribeiro', 'recrutador_Carolina Araújo', 'recrutador_Caroline Machado', 'recrutador_Clara Rios', 'recrutador_Dr. Luan Sá', 'recrutador_Dra. Luara Siqueira', 'recrutador_Elisa Barbosa', 'recrutador_Elisa Nunes', 'recrutador_Eloah Leão', 'recrutador_Emanuella Campos', 'recrutador_Emanuelly Vieira', 'recrutador_Helena Barros', 'recrutador_Juliana Cassiano', 'recrutador_Lara Duarte', 'recrutador_Laura Pacheco', 'recrutador_Liz Freitas', 'recrutador_Luara Câmara', 'recrutador_Luna Correia', 'recrutador_Lunna Fonseca', 'recrutador_Manuella Carvalho', 'recrutador_Maria Clara Pires', 'recrutador_Maria Vitória Machado', 'recrutador_Mariah Vasconcelos', 'recrutador_Mariane Moreira', 'recrutador_Melina Montenegro', 'recrutador_Natália Cavalcanti', 'recrutador_Paulo Peixoto', 'recrutador_Raquel Vieira', 'recrutador_Sra. Giovanna Sousa', 'recrutador_Sra. Joana Sousa', 'recrutador_Sra. Manuella Oliveira', 'recrutador_Srta. Bella Ferreira', 'recrutador_Srta. Maria Carvalho', 'recrutador_Stella Vieira', 'recrutador_Yasmin da Rosa', 'recrutador_Ágatha da Paz', 'recrutador_infrequent_sklearn', 'vaga_areas_atuacao_clean_Administrativa', 'vaga_areas_atuacao_clean_Comercial', 'vaga_areas_atuacao_clean_Financeira/Controladoria', 'vaga_areas_atuacao_clean_Gestão_e_Alocação_de_Recursos_de_TI', 'vaga_areas_atuacao_clean_Gestão_e_Alocação_de_Recursos_de_TI_TI_Desenvolvimento/Programação', 'vaga_areas_atuacao_clean_Gestão_e_Alocação_de_Recursos_de_TI_TI_Infraestrutura', 'vaga_areas_atuacao_clean_Gestão_e_Alocação_de_Recursos_de_TI_TI_SAP', 'vaga_areas_atuacao_clean_Recursos_Humanos', 'vaga_areas_atuacao_clean_TI_Arquitetura', 'vaga_areas_atuacao_clean_TI_Banco_de_Dados', 'vaga_areas_atuacao_clean_TI_Desenvolvimento/Design', 'vaga_areas_atuacao_clean_TI_Desenvolvimento/Mobile', 'vaga_areas_atuacao_clean_TI_Desenvolvimento/Programação', 'vaga_areas_atuacao_clean_TI_Infraestrutura', 'vaga_areas_atuacao_clean_TI_Processos_e_Negócios', 'vaga_areas_atuacao_clean_TI_Projetos', 'vaga_areas_atuacao_clean_TI_Qualidade/Testes', 'vaga_areas_atuacao_clean_TI_SAP', 'vaga_areas_atuacao_clean_TI_Sistemas_e_Ferramentas', 'vaga_areas_atuacao_clean_TI_Suporte', 'vaga_areas_atuacao_clean_infrequent_sklearn', 'vaga_sap', 'area_similarity']\n",
      "Number of features: 99\n"
     ]
    }
   ],
   "source": [
    "from scipy import sparse\n",
    "import numpy as np\n",
    "X_train = sparse.load_npz(\"../data/model_input/X_train.npz\")\n",
    "feature_names = np.load(\"../data/model_input/feature_names.npy\", allow_pickle=True)\n",
    "print(\"X_train shape:\", X_train.shape)\n",
    "print(\"Feature names:\", feature_names.tolist())\n",
    "print(\"Number of features:\", len(feature_names))"
   ]
  },
  {
   "cell_type": "code",
   "execution_count": null,
   "id": "9d65aae2",
   "metadata": {},
   "outputs": [
    {
     "name": "stderr",
     "output_type": "stream",
     "text": [
      "\u001b[32m2025-06-09 20:43:09.783\u001b[0m | \u001b[1mINFO    \u001b[0m | \u001b[36mapp.stages.data_split_stage\u001b[0m:\u001b[36msplit_dataset_by_vaga\u001b[0m:\u001b[36m7\u001b[0m - \u001b[1m[Split] Iniciando divisão do dataset por vaga...\u001b[0m\n",
      "\u001b[32m2025-06-09 20:43:09.811\u001b[0m | \u001b[32m\u001b[1mSUCCESS \u001b[0m | \u001b[36mapp.stages.data_split_stage\u001b[0m:\u001b[36msplit_dataset_by_vaga\u001b[0m:\u001b[36m22\u001b[0m - \u001b[32m\u001b[1m[Split] Feito! Tamanhos: train=36412, val=4386, test=4273\u001b[0m\n",
      "\u001b[32m2025-06-09 20:43:09.830\u001b[0m | \u001b[1mINFO    \u001b[0m | \u001b[36mapp.stages.feature_engineering_stage\u001b[0m:\u001b[36mapply_feature_pipeline\u001b[0m:\u001b[36m157\u001b[0m - \u001b[1m[Features] Aplicando transformações de encoding...\u001b[0m\n",
      "\u001b[32m2025-06-09 20:43:09.831\u001b[0m | \u001b[1mINFO    \u001b[0m | \u001b[36mapp.stages.feature_engineering_stage\u001b[0m:\u001b[36mapply_feature_pipeline\u001b[0m:\u001b[36m161\u001b[0m - \u001b[1m[Features] Expandindo embeddings...\u001b[0m\n",
      "\u001b[32m2025-06-09 20:43:15.777\u001b[0m | \u001b[32m\u001b[1mSUCCESS \u001b[0m | \u001b[36mapp.stages.feature_engineering_stage\u001b[0m:\u001b[36mapply_feature_pipeline\u001b[0m:\u001b[36m165\u001b[0m - \u001b[32m\u001b[1m[Features] Embeddings expandidos com sucesso.\u001b[0m\n",
      "\u001b[32m2025-06-09 20:43:16.137\u001b[0m | \u001b[1mINFO    \u001b[0m | \u001b[36mapp.stages.feature_engineering_stage\u001b[0m:\u001b[36mapply_feature_pipeline\u001b[0m:\u001b[36m185\u001b[0m - \u001b[1m[Features] Limpando colunas de área de atuação...\u001b[0m\n",
      "\u001b[32m2025-06-09 20:43:16.317\u001b[0m | \u001b[32m\u001b[1mSUCCESS \u001b[0m | \u001b[36mapp.stages.feature_engineering_stage\u001b[0m:\u001b[36mapply_feature_pipeline\u001b[0m:\u001b[36m202\u001b[0m - \u001b[32m\u001b[1m[Features] Colunas de área de atuação limpas com sucesso.\u001b[0m\n",
      "\u001b[32m2025-06-09 20:43:16.318\u001b[0m | \u001b[1mINFO    \u001b[0m | \u001b[36mapp.stages.feature_engineering_stage\u001b[0m:\u001b[36mapply_feature_pipeline\u001b[0m:\u001b[36m205\u001b[0m - \u001b[1m[Features] Calculando similaridade entre áreas de atuação...\u001b[0m\n",
      "\u001b[32m2025-06-09 20:43:17.525\u001b[0m | \u001b[32m\u001b[1mSUCCESS \u001b[0m | \u001b[36mapp.stages.feature_engineering_stage\u001b[0m:\u001b[36mapply_feature_pipeline\u001b[0m:\u001b[36m209\u001b[0m - \u001b[32m\u001b[1m[Features] Similaridade entre áreas calculada com sucesso.\u001b[0m\n"
     ]
    },
    {
     "ename": "TypeError",
     "evalue": "ColumnTransformer.__init__() got an unexpected keyword argument 'sparse_output'",
     "output_type": "error",
     "traceback": [
      "\u001b[31m---------------------------------------------------------------------------\u001b[39m",
      "\u001b[31mTypeError\u001b[39m                                 Traceback (most recent call last)",
      "\u001b[36mCell\u001b[39m\u001b[36m \u001b[39m\u001b[32mIn[2]\u001b[39m\u001b[32m, line 11\u001b[39m\n\u001b[32m      8\u001b[39m df_train, df_val, df_test = split_dataset_by_vaga(df)\n\u001b[32m     10\u001b[39m \u001b[38;5;66;03m# Apply pipeline with updated get_preprocessing_pipeline\u001b[39;00m\n\u001b[32m---> \u001b[39m\u001b[32m11\u001b[39m X_train, y_train, group_train, X_val, y_val, group_val, X_test, y_test, group_test, pipe = \u001b[43mapply_feature_pipeline\u001b[49m\u001b[43m(\u001b[49m\u001b[43mdf_train\u001b[49m\u001b[43m,\u001b[49m\u001b[43m \u001b[49m\u001b[43mdf_val\u001b[49m\u001b[43m,\u001b[49m\u001b[43m \u001b[49m\u001b[43mdf_test\u001b[49m\u001b[43m)\u001b[49m\n\u001b[32m     13\u001b[39m \u001b[38;5;66;03m# Load feature names and check shape\u001b[39;00m\n\u001b[32m     14\u001b[39m feature_names = np.load(\u001b[33m\"\u001b[39m\u001b[33m../data/model_input/feature_names.npy\u001b[39m\u001b[33m\"\u001b[39m, allow_pickle=\u001b[38;5;28;01mTrue\u001b[39;00m)\n",
      "\u001b[36mFile \u001b[39m\u001b[32m~/Workspace/github.com/datathon-mlops-rh-ia/app/stages/feature_engineering_stage.py:220\u001b[39m, in \u001b[36mapply_feature_pipeline\u001b[39m\u001b[34m(df_train, df_val, df_test)\u001b[39m\n\u001b[32m    217\u001b[39m group_test = df_test.groupby(\u001b[33m\"\u001b[39m\u001b[33mcodigo_vaga\u001b[39m\u001b[33m\"\u001b[39m).size().values\n\u001b[32m    219\u001b[39m \u001b[38;5;66;03m# Criar e ajustar o pipeline\u001b[39;00m\n\u001b[32m--> \u001b[39m\u001b[32m220\u001b[39m pipe = \u001b[43mget_preprocessing_pipeline\u001b[49m\u001b[43m(\u001b[49m\u001b[43m)\u001b[49m\n\u001b[32m    221\u001b[39m logger.info(\u001b[33m\"\u001b[39m\u001b[33m[Features] Ajustando pipeline de transformação...\u001b[39m\u001b[33m\"\u001b[39m)\n\u001b[32m    222\u001b[39m X_train = pipe.fit_transform(df_train)\n",
      "\u001b[36mFile \u001b[39m\u001b[32m~/Workspace/github.com/datathon-mlops-rh-ia/app/stages/feature_engineering_stage.py:51\u001b[39m, in \u001b[36mget_preprocessing_pipeline\u001b[39m\u001b[34m()\u001b[39m\n\u001b[32m     41\u001b[39m categorical_pipeline = Pipeline([\n\u001b[32m     42\u001b[39m     (\u001b[33m\"\u001b[39m\u001b[33mencoder\u001b[39m\u001b[33m\"\u001b[39m, OneHotEncoder(handle_unknown=\u001b[33m\"\u001b[39m\u001b[33mignore\u001b[39m\u001b[33m\"\u001b[39m, min_frequency=\u001b[32m100\u001b[39m, sparse_output=\u001b[38;5;28;01mTrue\u001b[39;00m))\n\u001b[32m     43\u001b[39m ])\n\u001b[32m     45\u001b[39m transformers = [\n\u001b[32m     46\u001b[39m     (\u001b[33m\"\u001b[39m\u001b[33mordinal\u001b[39m\u001b[33m\"\u001b[39m, ordinal_pipeline, \u001b[38;5;28mlist\u001b[39m(ordinais.keys())),\n\u001b[32m     47\u001b[39m     (\u001b[33m\"\u001b[39m\u001b[33mcategorical\u001b[39m\u001b[33m\"\u001b[39m, categorical_pipeline, categoricas),\n\u001b[32m     48\u001b[39m     (\u001b[33m\"\u001b[39m\u001b[33mpassthrough\u001b[39m\u001b[33m\"\u001b[39m, \u001b[33m\"\u001b[39m\u001b[33mpassthrough\u001b[39m\u001b[33m\"\u001b[39m, numericas + embedding_cols)  \u001b[38;5;66;03m# Include embeddings\u001b[39;00m\n\u001b[32m     49\u001b[39m ]\n\u001b[32m---> \u001b[39m\u001b[32m51\u001b[39m \u001b[38;5;28;01mreturn\u001b[39;00m \u001b[43mColumnTransformer\u001b[49m\u001b[43m(\u001b[49m\u001b[43mtransformers\u001b[49m\u001b[43m=\u001b[49m\u001b[43mtransformers\u001b[49m\u001b[43m,\u001b[49m\u001b[43m \u001b[49m\u001b[43msparse_output\u001b[49m\u001b[43m=\u001b[49m\u001b[38;5;28;43;01mTrue\u001b[39;49;00m\u001b[43m)\u001b[49m\n",
      "\u001b[31mTypeError\u001b[39m: ColumnTransformer.__init__() got an unexpected keyword argument 'sparse_output'"
     ]
    }
   ],
   "source": [
    "from app.stages.data_split_stage import split_dataset_by_vaga\n",
    "from app.stages.feature_engineering_stage import apply_feature_pipeline\n",
    "import pandas as pd\n",
    "import numpy as np\n",
    "\n",
    "# Load data and split\n",
    "df = pd.read_parquet(\"../data/processed/rank_ready.parquet\")\n",
    "df_train, df_val, df_test = split_dataset_by_vaga(df)\n",
    "\n",
    "# Apply pipeline with updated get_preprocessing_pipeline\n",
    "X_train, y_train, group_train, X_val, y_val, group_val, X_test, y_test, group_test, pipe = apply_feature_pipeline(df_train, df_val, df_test)\n",
    "\n",
    "# Load feature names and check shape\n",
    "feature_names = np.load(\"../data/model_input/feature_names.npy\", allow_pickle=True)\n",
    "print(\"Feature names:\", feature_names.tolist())\n",
    "print(\"X_train shape:\", X_train.shape)\n",
    "print(\"Number of embedding features:\", sum('emb_vaga_' in f or 'emb_cv_' in f for f in feature_names))"
   ]
  },
  {
   "cell_type": "code",
   "execution_count": null,
   "id": "0a4db39f",
   "metadata": {},
   "outputs": [],
   "source": []
  }
 ],
 "metadata": {
  "kernelspec": {
   "display_name": ".venv",
   "language": "python",
   "name": "python3"
  },
  "language_info": {
   "codemirror_mode": {
    "name": "ipython",
    "version": 3
   },
   "file_extension": ".py",
   "mimetype": "text/x-python",
   "name": "python",
   "nbconvert_exporter": "python",
   "pygments_lexer": "ipython3",
   "version": "3.11.12"
  }
 },
 "nbformat": 4,
 "nbformat_minor": 5
}
